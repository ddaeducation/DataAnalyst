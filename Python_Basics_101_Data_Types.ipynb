{
  "cells": [
    {
      "cell_type": "markdown",
      "metadata": {
        "id": "view-in-github",
        "colab_type": "text"
      },
      "source": [
        "<a href=\"https://colab.research.google.com/github/ddaeducation/DataAnalyst/blob/main/Python_Basics_101_Data_Types.ipynb\" target=\"_parent\"><img src=\"https://colab.research.google.com/assets/colab-badge.svg\" alt=\"Open In Colab\"/></a>"
      ]
    },
    {
      "cell_type": "markdown",
      "id": "3403857f",
      "metadata": {
        "id": "3403857f"
      },
      "source": [
        "# Data Types"
      ]
    },
    {
      "cell_type": "code",
      "execution_count": null,
      "id": "d6fde853",
      "metadata": {
        "id": "d6fde853",
        "outputId": "82b44a69-81c1-4a59-afc5-76abe8bafe3c"
      },
      "outputs": [
        {
          "data": {
            "text/plain": [
              "int"
            ]
          },
          "execution_count": 4,
          "metadata": {},
          "output_type": "execute_result"
        }
      ],
      "source": [
        "type(-12 + 100)"
      ]
    },
    {
      "cell_type": "code",
      "execution_count": null,
      "id": "1c6ee3b5",
      "metadata": {
        "id": "1c6ee3b5",
        "outputId": "a7e9eaf7-ad09-4f3f-d671-86338eda783a"
      },
      "outputs": [
        {
          "data": {
            "text/plain": [
              "float"
            ]
          },
          "execution_count": 5,
          "metadata": {},
          "output_type": "execute_result"
        }
      ],
      "source": [
        "type(12 + 10.25)"
      ]
    },
    {
      "cell_type": "code",
      "execution_count": null,
      "id": "84a2358e",
      "metadata": {
        "id": "84a2358e",
        "outputId": "a417f871-7bcd-4011-9f14-097558c22c39"
      },
      "outputs": [
        {
          "data": {
            "text/plain": [
              "complex"
            ]
          },
          "execution_count": 8,
          "metadata": {},
          "output_type": "execute_result"
        }
      ],
      "source": [
        "type(12 + 3j)"
      ]
    },
    {
      "cell_type": "code",
      "execution_count": null,
      "id": "75dd7320",
      "metadata": {
        "id": "75dd7320",
        "outputId": "f3c6f5df-9331-4b1a-d99c-b750135063bc"
      },
      "outputs": [
        {
          "data": {
            "text/plain": [
              "bool"
            ]
          },
          "execution_count": 13,
          "metadata": {},
          "output_type": "execute_result"
        }
      ],
      "source": [
        "#Boolean\n",
        "\n",
        "type(1 > 5)"
      ]
    },
    {
      "cell_type": "code",
      "execution_count": null,
      "id": "a9cb0ff9",
      "metadata": {
        "id": "a9cb0ff9",
        "outputId": "a2411572-d3c5-493b-9ac9-bdb35406fb48"
      },
      "outputs": [
        {
          "data": {
            "text/plain": [
              "True"
            ]
          },
          "execution_count": 15,
          "metadata": {},
          "output_type": "execute_result"
        }
      ],
      "source": [
        "1 == 1"
      ]
    },
    {
      "cell_type": "code",
      "execution_count": null,
      "id": "00fe9772",
      "metadata": {
        "id": "00fe9772",
        "outputId": "863f19fe-0fa5-41c9-8151-047eb8fd4c78"
      },
      "outputs": [
        {
          "data": {
            "text/plain": [
              "'Single Quote'"
            ]
          },
          "execution_count": 16,
          "metadata": {},
          "output_type": "execute_result"
        }
      ],
      "source": [
        "# Strings\n",
        "\n",
        "'Single Quote'"
      ]
    },
    {
      "cell_type": "code",
      "execution_count": null,
      "id": "63d73681",
      "metadata": {
        "id": "63d73681",
        "outputId": "f6beffa0-ce97-455b-bf40-507f67b512fd"
      },
      "outputs": [
        {
          "data": {
            "text/plain": [
              "'Double Quote'"
            ]
          },
          "execution_count": 17,
          "metadata": {},
          "output_type": "execute_result"
        }
      ],
      "source": [
        "\"Double Quote\""
      ]
    },
    {
      "cell_type": "code",
      "execution_count": null,
      "id": "d90a602f",
      "metadata": {
        "id": "d90a602f"
      },
      "outputs": [],
      "source": [
        "multiline = \"\"\"\n",
        "The ice cream vanquished\n",
        "my longing for sweets,\n",
        "upon this diet I look away,\n",
        "it no longer exists on this day.\n",
        "\n",
        "\"\"\""
      ]
    },
    {
      "cell_type": "code",
      "execution_count": null,
      "id": "048c3402",
      "metadata": {
        "id": "048c3402",
        "outputId": "029b15f5-a725-4f47-c00c-c6ff707d025c"
      },
      "outputs": [
        {
          "name": "stdout",
          "output_type": "stream",
          "text": [
            "\n",
            "The ice cream vanquished\n",
            "my longing for sweets,\n",
            "upon this diet I look away,\n",
            "it no longer exists on this day.\n",
            "\n",
            "\n"
          ]
        }
      ],
      "source": [
        "print(multiline)"
      ]
    },
    {
      "cell_type": "code",
      "execution_count": null,
      "id": "b285e18d",
      "metadata": {
        "id": "b285e18d"
      },
      "outputs": [],
      "source": [
        "\"\"\"\n",
        "I've always wanted to eat a gallon of \"ice cream.\"\n",
        "\"\"\""
      ]
    },
    {
      "cell_type": "code",
      "execution_count": null,
      "id": "f753eb08",
      "metadata": {
        "id": "f753eb08",
        "outputId": "4da7512c-9110-466c-b291-4e1020536712"
      },
      "outputs": [
        {
          "data": {
            "text/plain": [
              "str"
            ]
          },
          "execution_count": 25,
          "metadata": {},
          "output_type": "execute_result"
        }
      ],
      "source": [
        "type(multiline)"
      ]
    },
    {
      "cell_type": "code",
      "execution_count": null,
      "id": "824fea24",
      "metadata": {
        "id": "824fea24"
      },
      "outputs": [],
      "source": [
        "a = 'Hello World!'"
      ]
    },
    {
      "cell_type": "code",
      "execution_count": null,
      "id": "7d267a75",
      "metadata": {
        "id": "7d267a75",
        "outputId": "2d88650c-2b2a-4451-cbda-fd44fcbf9395"
      },
      "outputs": [
        {
          "name": "stdout",
          "output_type": "stream",
          "text": [
            "llo\n"
          ]
        }
      ],
      "source": [
        "print(a[2:5])"
      ]
    },
    {
      "cell_type": "code",
      "execution_count": null,
      "id": "3893bd14",
      "metadata": {
        "id": "3893bd14",
        "outputId": "0d71eac8-7911-4a0d-f2d0-fa9a965cc334"
      },
      "outputs": [
        {
          "data": {
            "text/plain": [
              "'Hello World!Hello World!Hello World!'"
            ]
          },
          "execution_count": 32,
          "metadata": {},
          "output_type": "execute_result"
        }
      ],
      "source": [
        "a*3"
      ]
    },
    {
      "cell_type": "code",
      "execution_count": null,
      "id": "b9aa6c3b",
      "metadata": {
        "id": "b9aa6c3b",
        "outputId": "7ca098df-9e6e-4fd4-9a07-38727c87bef0"
      },
      "outputs": [
        {
          "data": {
            "text/plain": [
              "'Hello World!Hello World!'"
            ]
          },
          "execution_count": 33,
          "metadata": {},
          "output_type": "execute_result"
        }
      ],
      "source": [
        "a + a"
      ]
    },
    {
      "cell_type": "code",
      "execution_count": null,
      "id": "4bdb2e80",
      "metadata": {
        "id": "4bdb2e80",
        "outputId": "7bb39cba-77ab-4a6c-b376-2bad217a19b6"
      },
      "outputs": [
        {
          "data": {
            "text/plain": [
              "[1, 2, 3]"
            ]
          },
          "execution_count": 34,
          "metadata": {},
          "output_type": "execute_result"
        }
      ],
      "source": [
        "# list\n",
        "\n",
        "[1,2,3]"
      ]
    },
    {
      "cell_type": "code",
      "execution_count": null,
      "id": "3e9e44bd",
      "metadata": {
        "id": "3e9e44bd",
        "outputId": "a363154d-696b-4c22-ebb3-40b63ecde30f"
      },
      "outputs": [
        {
          "data": {
            "text/plain": [
              "['Cookie Dough', 'Strawberry', 'Chocolate']"
            ]
          },
          "execution_count": 35,
          "metadata": {},
          "output_type": "execute_result"
        }
      ],
      "source": [
        "['Cookie Dough','Strawberry','Chocolate']"
      ]
    },
    {
      "cell_type": "code",
      "execution_count": null,
      "id": "fca2cf9c",
      "metadata": {
        "id": "fca2cf9c",
        "outputId": "c8b7862f-ffa1-476b-a30d-f90c8ddb6a14"
      },
      "outputs": [
        {
          "data": {
            "text/plain": [
              "['Vanilla', 3, ['Scoops', 'Spoon'], True]"
            ]
          },
          "execution_count": 36,
          "metadata": {},
          "output_type": "execute_result"
        }
      ],
      "source": [
        "['Vanilla', 3, ['Scoops','Spoon'],True]"
      ]
    },
    {
      "cell_type": "code",
      "execution_count": null,
      "id": "d96f89ef",
      "metadata": {
        "id": "d96f89ef",
        "outputId": "6d0e482e-eceb-44ca-dbbb-0654299f17b4"
      },
      "outputs": [
        {
          "data": {
            "text/plain": [
              "['Cookie Dough', 'Strawberry', 'Chocolate', 'Salted Caramel']"
            ]
          },
          "execution_count": 37,
          "metadata": {},
          "output_type": "execute_result"
        }
      ],
      "source": [
        "ice_cream = ['Cookie Dough','Strawberry','Chocolate']\n",
        "\n",
        "ice_cream.append('Salted Caramel')\n",
        "\n",
        "ice_cream"
      ]
    },
    {
      "cell_type": "code",
      "execution_count": null,
      "id": "7fdd960c",
      "metadata": {
        "id": "7fdd960c",
        "outputId": "da30dca3-1689-4d06-8c56-ca1ab2fe0c01"
      },
      "outputs": [
        {
          "data": {
            "text/plain": [
              "['Butter Pecan', 'Strawberry', 'Chocolate', 'Salted Caramel']"
            ]
          },
          "execution_count": 38,
          "metadata": {},
          "output_type": "execute_result"
        }
      ],
      "source": [
        "ice_cream[0] = 'Butter Pecan'\n",
        "\n",
        "ice_cream"
      ]
    },
    {
      "cell_type": "code",
      "execution_count": null,
      "id": "4d9a1834",
      "metadata": {
        "id": "4d9a1834"
      },
      "outputs": [],
      "source": [
        "nest_list = ['Vanilla', 3, ['Scoops','Spoon'],True]"
      ]
    },
    {
      "cell_type": "code",
      "execution_count": null,
      "id": "ceccf35b",
      "metadata": {
        "id": "ceccf35b",
        "outputId": "ede81455-ef16-4e17-e522-0c2a7fcb3932"
      },
      "outputs": [
        {
          "data": {
            "text/plain": [
              "'Spoon'"
            ]
          },
          "execution_count": 42,
          "metadata": {},
          "output_type": "execute_result"
        }
      ],
      "source": [
        "nest_list[2][1]"
      ]
    },
    {
      "cell_type": "code",
      "execution_count": null,
      "id": "c5e0c40e",
      "metadata": {
        "id": "c5e0c40e"
      },
      "outputs": [],
      "source": [
        "#tuple\n",
        "\n",
        "tuple_scoops = (1,2,3,2,1)"
      ]
    },
    {
      "cell_type": "code",
      "execution_count": null,
      "id": "62e9b0b7",
      "metadata": {
        "id": "62e9b0b7",
        "outputId": "7ee7ef56-b5bb-4370-a686-68156b272e99"
      },
      "outputs": [
        {
          "data": {
            "text/plain": [
              "tuple"
            ]
          },
          "execution_count": 44,
          "metadata": {},
          "output_type": "execute_result"
        }
      ],
      "source": [
        "type(tuple_scoops)"
      ]
    },
    {
      "cell_type": "code",
      "execution_count": null,
      "id": "69c86af2",
      "metadata": {
        "id": "69c86af2",
        "outputId": "11dac8ee-f207-4dd6-f90b-41f1a3d3e132"
      },
      "outputs": [
        {
          "data": {
            "text/plain": [
              "1"
            ]
          },
          "execution_count": 45,
          "metadata": {},
          "output_type": "execute_result"
        }
      ],
      "source": [
        "tuple_scoops[0]"
      ]
    },
    {
      "cell_type": "code",
      "execution_count": null,
      "id": "0fb925e7",
      "metadata": {
        "id": "0fb925e7",
        "outputId": "6c9f232d-141c-4cfd-ff77-9096ef459dbc"
      },
      "outputs": [
        {
          "ename": "AttributeError",
          "evalue": "'tuple' object has no attribute 'append'",
          "output_type": "error",
          "traceback": [
            "\u001b[1;31m---------------------------------------------------------------------------\u001b[0m",
            "\u001b[1;31mAttributeError\u001b[0m                            Traceback (most recent call last)",
            "Input \u001b[1;32mIn [46]\u001b[0m, in \u001b[0;36m<cell line: 1>\u001b[1;34m()\u001b[0m\n\u001b[1;32m----> 1\u001b[0m \u001b[43mtuple_scoops\u001b[49m\u001b[38;5;241;43m.\u001b[39;49m\u001b[43mappend\u001b[49m(\u001b[38;5;241m3\u001b[39m)\n",
            "\u001b[1;31mAttributeError\u001b[0m: 'tuple' object has no attribute 'append'"
          ]
        }
      ],
      "source": [
        "tuple_scoops.append(3)"
      ]
    },
    {
      "cell_type": "code",
      "execution_count": null,
      "id": "e92ce72c",
      "metadata": {
        "id": "e92ce72c"
      },
      "outputs": [],
      "source": [
        "# sets\n",
        "\n",
        "\n",
        "daily_pints = {1,2,3}"
      ]
    },
    {
      "cell_type": "code",
      "execution_count": null,
      "id": "950beaad",
      "metadata": {
        "id": "950beaad",
        "outputId": "c93ce743-2973-4ce3-825f-a60bb75c0cc5"
      },
      "outputs": [
        {
          "data": {
            "text/plain": [
              "set"
            ]
          },
          "execution_count": 49,
          "metadata": {},
          "output_type": "execute_result"
        }
      ],
      "source": [
        "type(daily_pints)"
      ]
    },
    {
      "cell_type": "code",
      "execution_count": null,
      "id": "73f55a86",
      "metadata": {
        "id": "73f55a86",
        "outputId": "81c7e5fc-2d19-4e87-8cb2-fbfee48b8465"
      },
      "outputs": [
        {
          "name": "stdout",
          "output_type": "stream",
          "text": [
            "{1, 2, 3}\n"
          ]
        }
      ],
      "source": [
        "print(daily_pints)"
      ]
    },
    {
      "cell_type": "code",
      "execution_count": null,
      "id": "9c5810f4",
      "metadata": {
        "id": "9c5810f4",
        "outputId": "20aa0cbb-d6b7-436a-dfb0-c1709054a269"
      },
      "outputs": [
        {
          "name": "stdout",
          "output_type": "stream",
          "text": [
            "{1, 2, 3, 4, 5, 6, 31}\n"
          ]
        }
      ],
      "source": [
        "daily_pints_log = {1,2,31,2,3,4,1,2,5,6,3,2}\n",
        "\n",
        "print(daily_pints_log)"
      ]
    },
    {
      "cell_type": "code",
      "execution_count": null,
      "id": "67a2f904",
      "metadata": {
        "id": "67a2f904"
      },
      "outputs": [],
      "source": [
        "wifes_daily_pints_log = {1,3,5,7,3,24,5,7,3,2,0}"
      ]
    },
    {
      "cell_type": "code",
      "execution_count": null,
      "id": "b4956b32",
      "metadata": {
        "id": "b4956b32",
        "outputId": "070e1051-eaa4-4e89-8d5e-efd4ec0c2ff0"
      },
      "outputs": [
        {
          "name": "stdout",
          "output_type": "stream",
          "text": [
            "{0, 1, 2, 3, 4, 5, 6, 7, 24, 31}\n"
          ]
        }
      ],
      "source": [
        "print(daily_pints_log | wifes_daily_pints_log)"
      ]
    },
    {
      "cell_type": "code",
      "execution_count": null,
      "id": "b4431472",
      "metadata": {
        "id": "b4431472",
        "outputId": "9535907d-4067-4b6d-b1f2-3195eba3c0bc"
      },
      "outputs": [
        {
          "name": "stdout",
          "output_type": "stream",
          "text": [
            "{1, 2, 3, 5}\n"
          ]
        }
      ],
      "source": [
        "print(daily_pints_log & wifes_daily_pints_log)"
      ]
    },
    {
      "cell_type": "code",
      "execution_count": null,
      "id": "a141db95",
      "metadata": {
        "id": "a141db95",
        "outputId": "e1bfdef2-aabc-4fad-b25e-28fa57952c48"
      },
      "outputs": [
        {
          "name": "stdout",
          "output_type": "stream",
          "text": [
            "{0, 24, 7}\n"
          ]
        }
      ],
      "source": [
        "print(wifes_daily_pints_log - daily_pints_log )"
      ]
    },
    {
      "cell_type": "code",
      "execution_count": null,
      "id": "bb3d7aea",
      "metadata": {
        "id": "bb3d7aea",
        "outputId": "24e007b8-2634-4d30-a7f6-5d6648c0deaf"
      },
      "outputs": [
        {
          "name": "stdout",
          "output_type": "stream",
          "text": [
            "{0, 4, 6, 7, 24, 31}\n"
          ]
        }
      ],
      "source": [
        "print(wifes_daily_pints_log ^ daily_pints_log )"
      ]
    },
    {
      "cell_type": "code",
      "execution_count": null,
      "id": "822e9010",
      "metadata": {
        "id": "822e9010"
      },
      "outputs": [],
      "source": [
        "# dictionaries\n",
        "# Key/Value Pair\n",
        "\n",
        "dict_cream = {'name': 'Alex Freberg', 'weekly intake': 5, 'favorite ice creams': ['MCC','Chocolate']}"
      ]
    },
    {
      "cell_type": "code",
      "execution_count": null,
      "id": "925daa00",
      "metadata": {
        "id": "925daa00",
        "outputId": "37641748-86b0-4d78-de70-e78e4bb667cc"
      },
      "outputs": [
        {
          "data": {
            "text/plain": [
              "dict"
            ]
          },
          "execution_count": 60,
          "metadata": {},
          "output_type": "execute_result"
        }
      ],
      "source": [
        "type(dict_cream)"
      ]
    },
    {
      "cell_type": "code",
      "execution_count": null,
      "id": "6bc1cedd",
      "metadata": {
        "id": "6bc1cedd",
        "outputId": "18c02f8a-a851-42af-c6e4-fd31d1be5c68"
      },
      "outputs": [
        {
          "name": "stdout",
          "output_type": "stream",
          "text": [
            "{'name': 'Alex Freberg', 'weekly intake': 5, 'favorite ice creams': ['MCC', 'Chocolate']}\n"
          ]
        }
      ],
      "source": [
        "print(dict_cream)"
      ]
    },
    {
      "cell_type": "code",
      "execution_count": null,
      "id": "cf9782cf",
      "metadata": {
        "id": "cf9782cf",
        "outputId": "b57395cb-76eb-4a2b-babf-9b1a93949e7f"
      },
      "outputs": [
        {
          "data": {
            "text/plain": [
              "dict_values(['Alex Freberg', 5, ['MCC', 'Chocolate']])"
            ]
          },
          "execution_count": 62,
          "metadata": {},
          "output_type": "execute_result"
        }
      ],
      "source": [
        "dict_cream.values()"
      ]
    },
    {
      "cell_type": "code",
      "execution_count": null,
      "id": "7d77ebf6",
      "metadata": {
        "id": "7d77ebf6",
        "outputId": "2d95617f-ab55-4820-f4f1-d6d53f45a0c1"
      },
      "outputs": [
        {
          "data": {
            "text/plain": [
              "dict_keys(['name', 'weekly intake', 'favorite ice creams'])"
            ]
          },
          "execution_count": 64,
          "metadata": {},
          "output_type": "execute_result"
        }
      ],
      "source": [
        "dict_cream.keys()"
      ]
    },
    {
      "cell_type": "code",
      "execution_count": null,
      "id": "2d1708b5",
      "metadata": {
        "id": "2d1708b5",
        "outputId": "123d288c-63d0-4347-c994-ced7c163e93c"
      },
      "outputs": [
        {
          "data": {
            "text/plain": [
              "dict_items([('name', 'Alex Freberg'), ('weekly intake', 5), ('favorite ice creams', ['MCC', 'Chocolate'])])"
            ]
          },
          "execution_count": 65,
          "metadata": {},
          "output_type": "execute_result"
        }
      ],
      "source": [
        "dict_cream.items()"
      ]
    },
    {
      "cell_type": "code",
      "execution_count": null,
      "id": "4287746f",
      "metadata": {
        "id": "4287746f",
        "outputId": "63187758-1adc-42b7-d118-86c4348e89a8"
      },
      "outputs": [
        {
          "data": {
            "text/plain": [
              "'Alex Freberg'"
            ]
          },
          "execution_count": 67,
          "metadata": {},
          "output_type": "execute_result"
        }
      ],
      "source": [
        "dict_cream['name']"
      ]
    },
    {
      "cell_type": "code",
      "execution_count": null,
      "id": "79fab68b",
      "metadata": {
        "id": "79fab68b",
        "outputId": "9485ea5b-96cd-47d6-e305-7dfae2eb08be"
      },
      "outputs": [
        {
          "name": "stdout",
          "output_type": "stream",
          "text": [
            "{'name': 'Christine Freberg', 'weekly intake': 5, 'favorite ice creams': ['MCC', 'Chocolate']}\n"
          ]
        }
      ],
      "source": [
        "dict_cream['name'] = 'Christine Freberg'\n",
        "\n",
        "print(dict_cream)"
      ]
    },
    {
      "cell_type": "code",
      "execution_count": null,
      "id": "6ec7c87f",
      "metadata": {
        "id": "6ec7c87f",
        "outputId": "ffecc1bf-f24b-4edd-ddf5-6a845acf2f68"
      },
      "outputs": [
        {
          "name": "stdout",
          "output_type": "stream",
          "text": [
            "{'name': 'Christine Freberg', 'weekly intake': 10, 'favorite ice creams': ['MCC', 'Chocolate'], 'weight': 300}\n"
          ]
        }
      ],
      "source": [
        "dict_cream.update({'name': 'Christine Freberg', 'weekly intake': 10, 'weight': 300})\n",
        "\n",
        "print(dict_cream)"
      ]
    },
    {
      "cell_type": "code",
      "execution_count": null,
      "id": "70cc2154",
      "metadata": {
        "id": "70cc2154",
        "outputId": "6d461939-2ab6-4888-b20c-b6118c206077"
      },
      "outputs": [
        {
          "name": "stdout",
          "output_type": "stream",
          "text": [
            "{'name': 'Christine Freberg', 'weekly intake': 10, 'favorite ice creams': ['MCC', 'Chocolate']}\n"
          ]
        }
      ],
      "source": [
        "del dict_cream['weight']\n",
        "\n",
        "print(dict_cream)"
      ]
    },
    {
      "cell_type": "code",
      "execution_count": null,
      "id": "9a99a17f",
      "metadata": {
        "id": "9a99a17f"
      },
      "outputs": [],
      "source": []
    },
    {
      "cell_type": "code",
      "execution_count": null,
      "id": "f82ec801",
      "metadata": {
        "id": "f82ec801"
      },
      "outputs": [],
      "source": []
    },
    {
      "cell_type": "code",
      "execution_count": null,
      "id": "cb6a2afb",
      "metadata": {
        "id": "cb6a2afb"
      },
      "outputs": [],
      "source": []
    },
    {
      "cell_type": "code",
      "execution_count": null,
      "id": "c04a3cbc",
      "metadata": {
        "id": "c04a3cbc"
      },
      "outputs": [],
      "source": []
    },
    {
      "cell_type": "code",
      "execution_count": null,
      "id": "3e90e3ff",
      "metadata": {
        "id": "3e90e3ff"
      },
      "outputs": [],
      "source": []
    },
    {
      "cell_type": "code",
      "execution_count": null,
      "id": "7a4ea17f",
      "metadata": {
        "id": "7a4ea17f"
      },
      "outputs": [],
      "source": []
    },
    {
      "cell_type": "code",
      "execution_count": null,
      "id": "cb94ee78",
      "metadata": {
        "id": "cb94ee78"
      },
      "outputs": [],
      "source": []
    }
  ],
  "metadata": {
    "kernelspec": {
      "display_name": "Python 3 (ipykernel)",
      "language": "python",
      "name": "python3"
    },
    "language_info": {
      "codemirror_mode": {
        "name": "ipython",
        "version": 3
      },
      "file_extension": ".py",
      "mimetype": "text/x-python",
      "name": "python",
      "nbconvert_exporter": "python",
      "pygments_lexer": "ipython3",
      "version": "3.9.12"
    },
    "colab": {
      "provenance": [],
      "include_colab_link": true
    }
  },
  "nbformat": 4,
  "nbformat_minor": 5
}