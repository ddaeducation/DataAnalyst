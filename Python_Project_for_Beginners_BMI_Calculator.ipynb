{
  "cells": [
    {
      "cell_type": "markdown",
      "metadata": {
        "id": "view-in-github",
        "colab_type": "text"
      },
      "source": [
        "<a href=\"https://colab.research.google.com/github/ddaeducation/DataAnalyst/blob/main/Python_Project_for_Beginners_BMI_Calculator.ipynb\" target=\"_parent\"><img src=\"https://colab.research.google.com/assets/colab-badge.svg\" alt=\"Open In Colab\"/></a>"
      ]
    },
    {
      "cell_type": "markdown",
      "id": "c131715d",
      "metadata": {
        "id": "c131715d"
      },
      "source": [
        "# BMI Calculator\n",
        "\n",
        "https://mercer-health.com/services/weight-management-center/bmi-calculator#:~:text=Body%20Mass%20Index%2C%20or%20BMI,inches%20x%20height%20in%20inches"
      ]
    },
    {
      "cell_type": "code",
      "execution_count": null,
      "id": "ed4712f7",
      "metadata": {
        "id": "ed4712f7",
        "outputId": "ec4d9a42-6870-486a-b25f-96ba1a08e181"
      },
      "outputs": [
        {
          "name": "stdout",
          "output_type": "stream",
          "text": [
            "Enter you name: Alex\n",
            "Enter your weight in pounds: 170\n",
            "Enter your height in inches: 69\n",
            "25.101869355177485\n",
            "Alex, you are overweight. You need to exercise more and stop sitting and writing so many python tutorials\n"
          ]
        }
      ],
      "source": [
        "name = input(\"Enter you name: \")\n",
        "\n",
        "weight = int(input(\"Enter your weight in pounds: \"))\n",
        "\n",
        "height = int(input(\"Enter your height in inches: \"))\n",
        "\n",
        "BMI = (weight * 703) / (height * height)\n",
        "\n",
        "print(BMI)\n",
        "\n",
        "if BMI>0:\n",
        "    if(BMI<18.5):\n",
        "        print(name +\", you are underwight.\")\n",
        "    elif (BMI<=24.9):\n",
        "        print(name +\", you are normal weight.\")\n",
        "    elif (BMI<29.9):\n",
        "        print(name +\", you are overweight. You need to exercise more and stop sitting and writing so many python tutorials.\")\n",
        "    elif (BMI<34.9):\n",
        "        print(name +\", you are obese.\")\n",
        "    elif (BMI<39.9):\n",
        "        print(name +\", you are severely obese.\")\n",
        "    else:\n",
        "        print(name +\", you are morbidly obese.\")\n",
        "else:\n",
        "    print(\"Enter valid input\")"
      ]
    },
    {
      "cell_type": "code",
      "execution_count": null,
      "id": "66be944f",
      "metadata": {
        "id": "66be944f"
      },
      "outputs": [],
      "source": []
    },
    {
      "cell_type": "code",
      "execution_count": null,
      "id": "1ab169ae",
      "metadata": {
        "id": "1ab169ae"
      },
      "outputs": [],
      "source": [
        "#BMI = (weight in pounds x 703) / (height in inches x height in inches)"
      ]
    },
    {
      "cell_type": "code",
      "execution_count": null,
      "id": "31a43c55",
      "metadata": {
        "id": "31a43c55"
      },
      "outputs": [],
      "source": [
        "print(weight)"
      ]
    },
    {
      "cell_type": "code",
      "execution_count": null,
      "id": "81cf54aa",
      "metadata": {
        "id": "81cf54aa"
      },
      "outputs": [],
      "source": [
        "Under 18.5\tUnderweight\tMinimal\n",
        "18.5 - 24.9\tNormal Weight\tMinimal\n",
        "25 - 29.9\tOverweight\tIncreased\n",
        "30 - 34.9\tObese\tHigh\n",
        "35 - 39.9\tSeverely Obese\tVery High\n",
        "40 and over\tMorbidly Obese\tExtremely High"
      ]
    },
    {
      "cell_type": "code",
      "execution_count": null,
      "id": "3fb8d60a",
      "metadata": {
        "id": "3fb8d60a",
        "outputId": "96d012da-9046-45ae-b65c-01795a0ad067"
      },
      "outputs": [
        {
          "name": "stdout",
          "output_type": "stream",
          "text": [
            "Alex, you are overweight.\n"
          ]
        }
      ],
      "source": [
        "if BMI>0:\n",
        "    if(BMI<18.5):\n",
        "        print(name +\", you are underwight.\")\n",
        "    elif (BMI<=24.9):\n",
        "        print(name +\", you are normal weight.\")\n",
        "    elif (BMI<29.9):\n",
        "        print(name +\", you are overweight.\")\n",
        "    elif (BMI<34.9):\n",
        "        print(name +\", you are obese.\")\n",
        "    elif (BMI<39.9):\n",
        "        print(name +\", you are severely obese.\")\n",
        "    else:\n",
        "        print(name +\", you are morbidly obese.\")\n",
        "else:\n",
        "    print(\"Enter valid input\")"
      ]
    },
    {
      "cell_type": "code",
      "execution_count": null,
      "id": "521c5bb8",
      "metadata": {
        "id": "521c5bb8"
      },
      "outputs": [],
      "source": []
    }
  ],
  "metadata": {
    "kernelspec": {
      "display_name": "Python 3 (ipykernel)",
      "language": "python",
      "name": "python3"
    },
    "language_info": {
      "codemirror_mode": {
        "name": "ipython",
        "version": 3
      },
      "file_extension": ".py",
      "mimetype": "text/x-python",
      "name": "python",
      "nbconvert_exporter": "python",
      "pygments_lexer": "ipython3",
      "version": "3.9.12"
    },
    "colab": {
      "provenance": [],
      "include_colab_link": true
    }
  },
  "nbformat": 4,
  "nbformat_minor": 5
}