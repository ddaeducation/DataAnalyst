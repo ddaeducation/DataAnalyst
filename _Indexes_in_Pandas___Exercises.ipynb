{
  "cells": [
    {
      "cell_type": "markdown",
      "metadata": {
        "id": "view-in-github",
        "colab_type": "text"
      },
      "source": [
        "<a href=\"https://colab.research.google.com/github/ddaeducation/DataAnalyst/blob/main/_Indexes_in_Pandas___Exercises.ipynb\" target=\"_parent\"><img src=\"https://colab.research.google.com/assets/colab-badge.svg\" alt=\"Open In Colab\"/></a>"
      ]
    },
    {
      "cell_type": "markdown",
      "id": "f138aef2-10c1-4cf9-a687-604a3912fa35",
      "metadata": {
        "id": "f138aef2-10c1-4cf9-a687-604a3912fa35"
      },
      "source": [
        "## Examples\n",
        "### Objectives\n",
        "1. Understand the concept of indexes in Pandas and their importance in data manipulation.\n",
        "2. Learn how to create and modify indexes in a Pandas DataFrame.\n",
        "3. Explore the different types of indexes available in Pandas, including default, custom, and multi-level indexes.\n",
        "4. Analyze a real dataset using indexes to enhance data retrieval and analysis.\n",
        "5. Develop skills to perform operations such as filtering, sorting, and grouping using indexes.\n",
        "\n",
        "### Introduction\n",
        "Pandas is a powerful data manipulation library in Python that provides data structures like Series and DataFrames to handle structured data efficiently. One of the key features of Pandas is its indexing capabilities, which allow for fast data retrieval and manipulation. An index in Pandas serves as a reference point for accessing data, similar to an index in a book. It can be thought of as a label for rows in a DataFrame, enabling users to perform operations like selection, filtering, and aggregation more intuitively.\n",
        "\n",
        "In this notebook, we will explore the concept of indexes in Pandas using a real dataset. We will utilize the \"Iris\" dataset, which contains measurements of different species of iris flowers. This dataset is widely used for demonstrating data analysis techniques and is readily available in the Seaborn library.\n",
        "\n",
        "### Dataset\n",
        "The Iris dataset consists of 150 samples of iris flowers, with four features: sepal length, sepal width, petal length, and petal width, along with the species of the iris flower.\n",
        "\n",
        "### Questions\n",
        "Now, let's create ten questions related to the Iris dataset, each in its own cell.\n"
      ]
    },
    {
      "cell_type": "code",
      "execution_count": null,
      "id": "c462138a-d864-47bd-93fc-19820b1bd35e",
      "metadata": {
        "id": "c462138a-d864-47bd-93fc-19820b1bd35e",
        "outputId": "55459691-2bd4-46e1-d600-52fc9187748f"
      },
      "outputs": [
        {
          "data": {
            "text/plain": [
              "(150, 5)"
            ]
          },
          "execution_count": 42,
          "metadata": {},
          "output_type": "execute_result"
        }
      ],
      "source": [
        "# Question 1: What are the dimensions of the Iris dataset?\n",
        "import pandas as pd\n",
        "from sklearn.datasets import load_iris\n",
        "\n",
        "# Load the Iris dataset\n",
        "iris = load_iris()\n",
        "iris_df = pd.DataFrame(data=iris.data, columns=iris.feature_names)\n",
        "iris_df['species'] = iris.target_names[iris.target]\n",
        "\n",
        "# Display the dimensions\n",
        "iris_df.shape"
      ]
    },
    {
      "cell_type": "code",
      "execution_count": null,
      "id": "c5e0d1b3-12dd-48fa-a1cb-c0ca63154665",
      "metadata": {
        "id": "c5e0d1b3-12dd-48fa-a1cb-c0ca63154665",
        "outputId": "b176eab0-2f73-4417-cfff-8a030817d18c"
      },
      "outputs": [
        {
          "data": {
            "text/html": [
              "<div>\n",
              "<style scoped>\n",
              "    .dataframe tbody tr th:only-of-type {\n",
              "        vertical-align: middle;\n",
              "    }\n",
              "\n",
              "    .dataframe tbody tr th {\n",
              "        vertical-align: top;\n",
              "    }\n",
              "\n",
              "    .dataframe thead th {\n",
              "        text-align: right;\n",
              "    }\n",
              "</style>\n",
              "<table border=\"1\" class=\"dataframe\">\n",
              "  <thead>\n",
              "    <tr style=\"text-align: right;\">\n",
              "      <th></th>\n",
              "      <th>sepal length (cm)</th>\n",
              "      <th>sepal width (cm)</th>\n",
              "      <th>petal length (cm)</th>\n",
              "      <th>petal width (cm)</th>\n",
              "      <th>species</th>\n",
              "    </tr>\n",
              "  </thead>\n",
              "  <tbody>\n",
              "    <tr>\n",
              "      <th>0</th>\n",
              "      <td>5.1</td>\n",
              "      <td>3.5</td>\n",
              "      <td>1.4</td>\n",
              "      <td>0.2</td>\n",
              "      <td>setosa</td>\n",
              "    </tr>\n",
              "    <tr>\n",
              "      <th>1</th>\n",
              "      <td>4.9</td>\n",
              "      <td>3.0</td>\n",
              "      <td>1.4</td>\n",
              "      <td>0.2</td>\n",
              "      <td>setosa</td>\n",
              "    </tr>\n",
              "    <tr>\n",
              "      <th>2</th>\n",
              "      <td>4.7</td>\n",
              "      <td>3.2</td>\n",
              "      <td>1.3</td>\n",
              "      <td>0.2</td>\n",
              "      <td>setosa</td>\n",
              "    </tr>\n",
              "    <tr>\n",
              "      <th>3</th>\n",
              "      <td>4.6</td>\n",
              "      <td>3.1</td>\n",
              "      <td>1.5</td>\n",
              "      <td>0.2</td>\n",
              "      <td>setosa</td>\n",
              "    </tr>\n",
              "    <tr>\n",
              "      <th>4</th>\n",
              "      <td>5.0</td>\n",
              "      <td>3.6</td>\n",
              "      <td>1.4</td>\n",
              "      <td>0.2</td>\n",
              "      <td>setosa</td>\n",
              "    </tr>\n",
              "  </tbody>\n",
              "</table>\n",
              "</div>"
            ],
            "text/plain": [
              "   sepal length (cm)  sepal width (cm)  petal length (cm)  petal width (cm)  \\\n",
              "0                5.1               3.5                1.4               0.2   \n",
              "1                4.9               3.0                1.4               0.2   \n",
              "2                4.7               3.2                1.3               0.2   \n",
              "3                4.6               3.1                1.5               0.2   \n",
              "4                5.0               3.6                1.4               0.2   \n",
              "\n",
              "  species  \n",
              "0  setosa  \n",
              "1  setosa  \n",
              "2  setosa  \n",
              "3  setosa  \n",
              "4  setosa  "
            ]
          },
          "execution_count": 44,
          "metadata": {},
          "output_type": "execute_result"
        }
      ],
      "source": [
        "# Question 2: What are the first five rows of the Iris dataset?\n",
        "iris_df.head()"
      ]
    },
    {
      "cell_type": "code",
      "execution_count": null,
      "id": "9e69f771-a74d-4c2f-b2f3-57de6649429a",
      "metadata": {
        "id": "9e69f771-a74d-4c2f-b2f3-57de6649429a",
        "outputId": "4601f9dc-3a1c-42bd-b99f-8e0c4acc1fe0"
      },
      "outputs": [
        {
          "data": {
            "text/plain": [
              "3"
            ]
          },
          "execution_count": 46,
          "metadata": {},
          "output_type": "execute_result"
        }
      ],
      "source": [
        "# Question 3: How many unique species are present in the Iris dataset?\n",
        "iris_df['species'].nunique()"
      ]
    },
    {
      "cell_type": "code",
      "execution_count": null,
      "id": "decca7c0-867f-40a4-8071-9f94188815c8",
      "metadata": {
        "id": "decca7c0-867f-40a4-8071-9f94188815c8",
        "outputId": "706e5c79-c8c6-4d05-b14a-9a72d60ed5ea"
      },
      "outputs": [
        {
          "data": {
            "text/plain": [
              "species\n",
              "setosa        5.006\n",
              "versicolor    5.936\n",
              "virginica     6.588\n",
              "Name: sepal length (cm), dtype: float64"
            ]
          },
          "execution_count": 48,
          "metadata": {},
          "output_type": "execute_result"
        }
      ],
      "source": [
        "# Question 4: What is the average sepal length for each species?\n",
        "iris_df.groupby('species')['sepal length (cm)'].mean()"
      ]
    },
    {
      "cell_type": "code",
      "execution_count": null,
      "id": "a0de4fb6-9e14-4416-900d-82b83db16443",
      "metadata": {
        "id": "a0de4fb6-9e14-4416-900d-82b83db16443",
        "outputId": "87e20967-3bce-4d94-d539-9b0e534e0fb5"
      },
      "outputs": [
        {
          "data": {
            "text/plain": [
              "2.5"
            ]
          },
          "execution_count": 50,
          "metadata": {},
          "output_type": "execute_result"
        }
      ],
      "source": [
        "# Question 5: What is the maximum petal width in the dataset?\n",
        "iris_df['petal width (cm)'].max()"
      ]
    },
    {
      "cell_type": "code",
      "execution_count": null,
      "id": "3a3d226a-50a8-40b9-a1f0-7c11c093291e",
      "metadata": {
        "id": "3a3d226a-50a8-40b9-a1f0-7c11c093291e",
        "outputId": "e70cc52a-516f-4e6f-855e-a5f1189f9c71"
      },
      "outputs": [
        {
          "data": {
            "text/plain": [
              "species\n",
              "setosa        50\n",
              "versicolor    50\n",
              "virginica     50\n",
              "Name: count, dtype: int64"
            ]
          },
          "execution_count": 52,
          "metadata": {},
          "output_type": "execute_result"
        }
      ],
      "source": [
        "# Question 6: How many samples are there for each species?\n",
        "iris_df['species'].value_counts()"
      ]
    },
    {
      "cell_type": "code",
      "execution_count": null,
      "id": "de856dcb-918c-478c-8a50-8be4eb848056",
      "metadata": {
        "id": "de856dcb-918c-478c-8a50-8be4eb848056",
        "outputId": "f6a8cbea-d2fa-4543-fb7a-d9f966ea498e"
      },
      "outputs": [
        {
          "data": {
            "text/plain": [
              "0.435866284936698"
            ]
          },
          "execution_count": 54,
          "metadata": {},
          "output_type": "execute_result"
        }
      ],
      "source": [
        "# Question 7: What is the standard deviation of the sepal width for the entire dataset?\n",
        "iris_df['sepal width (cm)'].std()"
      ]
    },
    {
      "cell_type": "code",
      "execution_count": null,
      "id": "9a5f2546-2169-49c9-8a8e-0784c6bbc46c",
      "metadata": {
        "id": "9a5f2546-2169-49c9-8a8e-0784c6bbc46c",
        "outputId": "d89bcd42-1f63-4d4e-da46-e978b6fee35e"
      },
      "outputs": [
        {
          "data": {
            "text/plain": [
              "MultiIndex([(5.1, 3.5),\n",
              "            (4.9, 3.0),\n",
              "            (4.7, 3.2),\n",
              "            (4.6, 3.1),\n",
              "            (5.0, 3.6),\n",
              "            (5.4, 3.9),\n",
              "            (4.6, 3.4),\n",
              "            (5.0, 3.4),\n",
              "            (4.4, 2.9),\n",
              "            (4.9, 3.1),\n",
              "            ...\n",
              "            (6.7, 3.1),\n",
              "            (6.9, 3.1),\n",
              "            (5.8, 2.7),\n",
              "            (6.8, 3.2),\n",
              "            (6.7, 3.3),\n",
              "            (6.7, 3.0),\n",
              "            (6.3, 2.5),\n",
              "            (6.5, 3.0),\n",
              "            (6.2, 3.4),\n",
              "            (5.9, 3.0)],\n",
              "           names=['sepal length (cm)', 'sepal width (cm)'], length=150)"
            ]
          },
          "execution_count": 56,
          "metadata": {},
          "output_type": "execute_result"
        }
      ],
      "source": [
        "# Question 8: Create a custom index using the sepal length and sepal width.\n",
        "iris_df.set_index(['sepal length (cm)', 'sepal width (cm)'], inplace=True)\n",
        "iris_df.index"
      ]
    },
    {
      "cell_type": "code",
      "execution_count": null,
      "id": "6a38fd72-31f4-44c9-b3ce-c7626c69fde3",
      "metadata": {
        "id": "6a38fd72-31f4-44c9-b3ce-c7626c69fde3",
        "outputId": "09f7a92a-e8d0-4d41-e918-b8c93f3fb25b"
      },
      "outputs": [
        {
          "data": {
            "text/html": [
              "<div>\n",
              "<style scoped>\n",
              "    .dataframe tbody tr th:only-of-type {\n",
              "        vertical-align: middle;\n",
              "    }\n",
              "\n",
              "    .dataframe tbody tr th {\n",
              "        vertical-align: top;\n",
              "    }\n",
              "\n",
              "    .dataframe thead th {\n",
              "        text-align: right;\n",
              "    }\n",
              "</style>\n",
              "<table border=\"1\" class=\"dataframe\">\n",
              "  <thead>\n",
              "    <tr style=\"text-align: right;\">\n",
              "      <th></th>\n",
              "      <th>sepal length (cm)</th>\n",
              "      <th>sepal width (cm)</th>\n",
              "      <th>petal length (cm)</th>\n",
              "      <th>petal width (cm)</th>\n",
              "      <th>species</th>\n",
              "    </tr>\n",
              "  </thead>\n",
              "  <tbody>\n",
              "    <tr>\n",
              "      <th>0</th>\n",
              "      <td>5.1</td>\n",
              "      <td>3.5</td>\n",
              "      <td>1.4</td>\n",
              "      <td>0.2</td>\n",
              "      <td>setosa</td>\n",
              "    </tr>\n",
              "    <tr>\n",
              "      <th>1</th>\n",
              "      <td>4.9</td>\n",
              "      <td>3.0</td>\n",
              "      <td>1.4</td>\n",
              "      <td>0.2</td>\n",
              "      <td>setosa</td>\n",
              "    </tr>\n",
              "    <tr>\n",
              "      <th>2</th>\n",
              "      <td>4.7</td>\n",
              "      <td>3.2</td>\n",
              "      <td>1.3</td>\n",
              "      <td>0.2</td>\n",
              "      <td>setosa</td>\n",
              "    </tr>\n",
              "    <tr>\n",
              "      <th>3</th>\n",
              "      <td>4.6</td>\n",
              "      <td>3.1</td>\n",
              "      <td>1.5</td>\n",
              "      <td>0.2</td>\n",
              "      <td>setosa</td>\n",
              "    </tr>\n",
              "    <tr>\n",
              "      <th>4</th>\n",
              "      <td>5.0</td>\n",
              "      <td>3.6</td>\n",
              "      <td>1.4</td>\n",
              "      <td>0.2</td>\n",
              "      <td>setosa</td>\n",
              "    </tr>\n",
              "  </tbody>\n",
              "</table>\n",
              "</div>"
            ],
            "text/plain": [
              "   sepal length (cm)  sepal width (cm)  petal length (cm)  petal width (cm)  \\\n",
              "0                5.1               3.5                1.4               0.2   \n",
              "1                4.9               3.0                1.4               0.2   \n",
              "2                4.7               3.2                1.3               0.2   \n",
              "3                4.6               3.1                1.5               0.2   \n",
              "4                5.0               3.6                1.4               0.2   \n",
              "\n",
              "  species  \n",
              "0  setosa  \n",
              "1  setosa  \n",
              "2  setosa  \n",
              "3  setosa  \n",
              "4  setosa  "
            ]
          },
          "execution_count": 58,
          "metadata": {},
          "output_type": "execute_result"
        }
      ],
      "source": [
        "# Question 9: How can we reset the index back to the default integer index?\n",
        "iris_df.reset_index(inplace=True)\n",
        "iris_df.head()"
      ]
    },
    {
      "cell_type": "code",
      "execution_count": null,
      "id": "d4caf496-c537-4fd3-9e3b-cb3346da8d84",
      "metadata": {
        "id": "d4caf496-c537-4fd3-9e3b-cb3346da8d84",
        "outputId": "35a6c00f-cb7e-43bd-cab8-706e65ba6194"
      },
      "outputs": [
        {
          "data": {
            "text/html": [
              "<div>\n",
              "<style scoped>\n",
              "    .dataframe tbody tr th:only-of-type {\n",
              "        vertical-align: middle;\n",
              "    }\n",
              "\n",
              "    .dataframe tbody tr th {\n",
              "        vertical-align: top;\n",
              "    }\n",
              "\n",
              "    .dataframe thead th {\n",
              "        text-align: right;\n",
              "    }\n",
              "</style>\n",
              "<table border=\"1\" class=\"dataframe\">\n",
              "  <thead>\n",
              "    <tr style=\"text-align: right;\">\n",
              "      <th></th>\n",
              "      <th>petal length (cm)</th>\n",
              "      <th>petal width (cm)</th>\n",
              "    </tr>\n",
              "  </thead>\n",
              "  <tbody>\n",
              "    <tr>\n",
              "      <th>petal length (cm)</th>\n",
              "      <td>1.000000</td>\n",
              "      <td>0.962865</td>\n",
              "    </tr>\n",
              "    <tr>\n",
              "      <th>petal width (cm)</th>\n",
              "      <td>0.962865</td>\n",
              "      <td>1.000000</td>\n",
              "    </tr>\n",
              "  </tbody>\n",
              "</table>\n",
              "</div>"
            ],
            "text/plain": [
              "                   petal length (cm)  petal width (cm)\n",
              "petal length (cm)           1.000000          0.962865\n",
              "petal width (cm)            0.962865          1.000000"
            ]
          },
          "execution_count": 60,
          "metadata": {},
          "output_type": "execute_result"
        }
      ],
      "source": [
        "# Question 10: What is the correlation between petal length and petal width?\n",
        "iris_df[['petal length (cm)', 'petal width (cm)']].corr()"
      ]
    },
    {
      "cell_type": "markdown",
      "id": "3a0cd185-7a62-47f7-8f9f-a7995dee1d6a",
      "metadata": {
        "id": "3a0cd185-7a62-47f7-8f9f-a7995dee1d6a"
      },
      "source": [
        "\n",
        "This structure provides a comprehensive exploration of the Iris dataset while focusing on the use of indexes in Pandas. Each question is designed to enhance understanding of data manipulation techniques using indexes."
      ]
    },
    {
      "cell_type": "markdown",
      "id": "c3131a56-0f6d-4b17-bebc-42bf6be4f841",
      "metadata": {
        "id": "c3131a56-0f6d-4b17-bebc-42bf6be4f841"
      },
      "source": [
        "### Exercises\n",
        "To generate a DataFrame from the provided URL and display the first 10 rows, you will need to use the `pandas` library in Python. Here’s how you can do it:\n",
        "\n",
        "1. Import the `pandas` library.\n",
        "2. Use the `read_csv` function to read the CSV file from the URL.\n",
        "3. Use the `head` method to display the first 10 rows of the DataFrame.\n",
        "\n",
        "Here’s the code to accomplish this:\n"
      ]
    },
    {
      "cell_type": "code",
      "execution_count": null,
      "id": "29ec4e44-066d-4a8e-8ba5-a6706142e2d8",
      "metadata": {
        "id": "29ec4e44-066d-4a8e-8ba5-a6706142e2d8",
        "outputId": "295abf3c-6da9-4c1b-db5c-2f57f889bd31"
      },
      "outputs": [
        {
          "data": {
            "text/html": [
              "<div>\n",
              "<style scoped>\n",
              "    .dataframe tbody tr th:only-of-type {\n",
              "        vertical-align: middle;\n",
              "    }\n",
              "\n",
              "    .dataframe tbody tr th {\n",
              "        vertical-align: top;\n",
              "    }\n",
              "\n",
              "    .dataframe thead th {\n",
              "        text-align: right;\n",
              "    }\n",
              "</style>\n",
              "<table border=\"1\" class=\"dataframe\">\n",
              "  <thead>\n",
              "    <tr style=\"text-align: right;\">\n",
              "      <th></th>\n",
              "      <th>team</th>\n",
              "      <th>season_ortg</th>\n",
              "      <th>season_drtg</th>\n",
              "      <th>season_nrtg</th>\n",
              "      <th>avg_poss</th>\n",
              "      <th>off_rk</th>\n",
              "      <th>def_rk</th>\n",
              "      <th>net_rk</th>\n",
              "      <th>tempo_rk</th>\n",
              "    </tr>\n",
              "  </thead>\n",
              "  <tbody>\n",
              "    <tr>\n",
              "      <th>0</th>\n",
              "      <td>Houston</td>\n",
              "      <td>11.336137</td>\n",
              "      <td>17.116614</td>\n",
              "      <td>28.452751</td>\n",
              "      <td>64.214595</td>\n",
              "      <td>12</td>\n",
              "      <td>3</td>\n",
              "      <td>1</td>\n",
              "      <td>333</td>\n",
              "    </tr>\n",
              "    <tr>\n",
              "      <th>1</th>\n",
              "      <td>UConn</td>\n",
              "      <td>15.391627</td>\n",
              "      <td>12.184026</td>\n",
              "      <td>27.575654</td>\n",
              "      <td>67.672105</td>\n",
              "      <td>1</td>\n",
              "      <td>15</td>\n",
              "      <td>2</td>\n",
              "      <td>188</td>\n",
              "    </tr>\n",
              "    <tr>\n",
              "      <th>2</th>\n",
              "      <td>Alabama</td>\n",
              "      <td>9.736440</td>\n",
              "      <td>16.823355</td>\n",
              "      <td>26.559795</td>\n",
              "      <td>73.336216</td>\n",
              "      <td>22</td>\n",
              "      <td>4</td>\n",
              "      <td>3</td>\n",
              "      <td>9</td>\n",
              "    </tr>\n",
              "    <tr>\n",
              "      <th>3</th>\n",
              "      <td>Tennessee</td>\n",
              "      <td>5.257544</td>\n",
              "      <td>20.826315</td>\n",
              "      <td>26.083858</td>\n",
              "      <td>65.479444</td>\n",
              "      <td>58</td>\n",
              "      <td>1</td>\n",
              "      <td>4</td>\n",
              "      <td>299</td>\n",
              "    </tr>\n",
              "    <tr>\n",
              "      <th>4</th>\n",
              "      <td>UCLA</td>\n",
              "      <td>8.589127</td>\n",
              "      <td>16.337035</td>\n",
              "      <td>24.926162</td>\n",
              "      <td>66.617838</td>\n",
              "      <td>25</td>\n",
              "      <td>5</td>\n",
              "      <td>5</td>\n",
              "      <td>244</td>\n",
              "    </tr>\n",
              "  </tbody>\n",
              "</table>\n",
              "</div>"
            ],
            "text/plain": [
              "        team  season_ortg  season_drtg  season_nrtg   avg_poss  off_rk  \\\n",
              "0    Houston    11.336137    17.116614    28.452751  64.214595      12   \n",
              "1      UConn    15.391627    12.184026    27.575654  67.672105       1   \n",
              "2    Alabama     9.736440    16.823355    26.559795  73.336216      22   \n",
              "3  Tennessee     5.257544    20.826315    26.083858  65.479444      58   \n",
              "4       UCLA     8.589127    16.337035    24.926162  66.617838      25   \n",
              "\n",
              "   def_rk  net_rk  tempo_rk  \n",
              "0       3       1       333  \n",
              "1      15       2       188  \n",
              "2       4       3         9  \n",
              "3       1       4       299  \n",
              "4       5       5       244  "
            ]
          },
          "execution_count": 111,
          "metadata": {},
          "output_type": "execute_result"
        }
      ],
      "source": [
        "import pandas as pd\n",
        "# Load the data from the URL\n",
        "url = 'https://raw.githubusercontent.com/bbwieland/ncaa-projections/main/data/TeamRatings.csv'\n",
        "df = pd.read_csv(url)\n",
        "# Display the first 10 rows\n",
        "df.head()"
      ]
    },
    {
      "cell_type": "markdown",
      "id": "2381671a-a4c9-4ff1-ad06-006754868a00",
      "metadata": {
        "id": "2381671a-a4c9-4ff1-ad06-006754868a00"
      },
      "source": [
        "\n",
        "1. **What are the top 5 teams based on their ratings?**\n",
        "   - This question can help identify the highest-rated teams in the dataset."
      ]
    },
    {
      "cell_type": "code",
      "execution_count": null,
      "id": "7d2140ca-2008-4482-89a8-016e3cafea84",
      "metadata": {
        "id": "7d2140ca-2008-4482-89a8-016e3cafea84"
      },
      "outputs": [],
      "source": []
    },
    {
      "cell_type": "markdown",
      "id": "62aebfba-b716-42e5-b215-2c793b19d96d",
      "metadata": {
        "id": "62aebfba-b716-42e5-b215-2c793b19d96d"
      },
      "source": [
        "2. **How many teams are included in the dataset?**\n",
        "   - This question will provide insight into the size of the dataset."
      ]
    },
    {
      "cell_type": "code",
      "execution_count": null,
      "id": "ea91366e-2f48-4264-b7d8-31c0720f342d",
      "metadata": {
        "id": "ea91366e-2f48-4264-b7d8-31c0720f342d"
      },
      "outputs": [],
      "source": []
    },
    {
      "cell_type": "markdown",
      "id": "f4b2cc50-009f-491e-8ae8-8476d159ba88",
      "metadata": {
        "id": "f4b2cc50-009f-491e-8ae8-8476d159ba88"
      },
      "source": [
        "3. **What is the average rating of all teams?**\n",
        "   - This question can help understand the overall performance level of the teams."
      ]
    },
    {
      "cell_type": "code",
      "execution_count": null,
      "id": "64cd8748-ec97-4be1-aead-3fa4667d9adf",
      "metadata": {
        "id": "64cd8748-ec97-4be1-aead-3fa4667d9adf"
      },
      "outputs": [],
      "source": []
    },
    {
      "cell_type": "markdown",
      "id": "8dc5f021-499d-43e1-b9f9-5e00b9905e0c",
      "metadata": {
        "id": "8dc5f021-499d-43e1-b9f9-5e00b9905e0c"
      },
      "source": [
        "4. **Which team has the lowest rating, and what is that rating?**\n",
        "   - This question can identify the team that is currently rated the lowest."
      ]
    },
    {
      "cell_type": "code",
      "execution_count": null,
      "id": "8656da0b-d8c2-42cd-8648-4d0e7a40924d",
      "metadata": {
        "id": "8656da0b-d8c2-42cd-8648-4d0e7a40924d"
      },
      "outputs": [],
      "source": []
    },
    {
      "cell_type": "markdown",
      "id": "8e6e0f1e-5984-4ba8-93a4-94327d0e43b1",
      "metadata": {
        "id": "8e6e0f1e-5984-4ba8-93a4-94327d0e43b1"
      },
      "source": [
        "5. **How do the ratings vary by conference?**\n",
        "   - This question can explore the distribution of ratings across different conferences."
      ]
    },
    {
      "cell_type": "code",
      "execution_count": null,
      "id": "1944e248-5814-4532-ac89-919d0ecb49b8",
      "metadata": {
        "id": "1944e248-5814-4532-ac89-919d0ecb49b8"
      },
      "outputs": [],
      "source": []
    },
    {
      "cell_type": "markdown",
      "id": "47c64456-c75e-429b-bdf8-6ab4a619a204",
      "metadata": {
        "id": "47c64456-c75e-429b-bdf8-6ab4a619a204"
      },
      "source": [
        "6. **What is the distribution of team ratings (e.g., mean, median, standard deviation)?**\n",
        "   - This question can provide statistical insights into the ratings."
      ]
    },
    {
      "cell_type": "code",
      "execution_count": null,
      "id": "373dc4a4-0394-47a8-967c-0e68718827a7",
      "metadata": {
        "id": "373dc4a4-0394-47a8-967c-0e68718827a7"
      },
      "outputs": [],
      "source": []
    },
    {
      "cell_type": "markdown",
      "id": "7cad14be-eb1f-47e5-869a-8d69d4c1ae47",
      "metadata": {
        "id": "7cad14be-eb1f-47e5-869a-8d69d4c1ae47"
      },
      "source": [
        "7. **Are there any teams with ratings significantly higher or lower than the average?**\n",
        "   - This question can help identify outliers in the dataset."
      ]
    },
    {
      "cell_type": "code",
      "execution_count": null,
      "id": "3d803ae0-591c-470d-b2de-62997c8fb23b",
      "metadata": {
        "id": "3d803ae0-591c-470d-b2de-62997c8fb23b"
      },
      "outputs": [],
      "source": []
    },
    {
      "cell_type": "markdown",
      "id": "1e14b58f-4680-46b4-a318-bfab0a5181f4",
      "metadata": {
        "id": "1e14b58f-4680-46b4-a318-bfab0a5181f4"
      },
      "source": [
        "8. **How many teams have a rating above a certain threshold (e.g., 80)?**\n",
        "   - This question can help assess the number of high-performing teams."
      ]
    },
    {
      "cell_type": "code",
      "execution_count": null,
      "id": "12cf53c3-af51-4385-867c-ee1f59c48f11",
      "metadata": {
        "id": "12cf53c3-af51-4385-867c-ee1f59c48f11"
      },
      "outputs": [],
      "source": []
    },
    {
      "cell_type": "markdown",
      "id": "1235c6b9-7e4e-4f81-bf62-df2ed694fca7",
      "metadata": {
        "id": "1235c6b9-7e4e-4f81-bf62-df2ed694fca7"
      },
      "source": [
        "9. **What is the correlation between team ratings and other numerical features in the dataset?**\n",
        "   - This question can explore relationships between ratings and other metrics."
      ]
    },
    {
      "cell_type": "code",
      "execution_count": null,
      "id": "352c4517-e4ab-4896-9530-65ca15af73e8",
      "metadata": {
        "id": "352c4517-e4ab-4896-9530-65ca15af73e8"
      },
      "outputs": [],
      "source": []
    },
    {
      "cell_type": "markdown",
      "id": "e1e0b344-dc72-46d1-aadf-8f91fdac969a",
      "metadata": {
        "id": "e1e0b344-dc72-46d1-aadf-8f91fdac969a"
      },
      "source": [
        "10. **How have team ratings changed over time (if the dataset includes a time component)?**\n",
        "    - This question can analyze trends in team performance over different seasons or years."
      ]
    },
    {
      "cell_type": "code",
      "execution_count": null,
      "id": "a7483c21-6e23-4de2-ae0d-3e439bf8aaf6",
      "metadata": {
        "id": "a7483c21-6e23-4de2-ae0d-3e439bf8aaf6"
      },
      "outputs": [],
      "source": []
    },
    {
      "cell_type": "markdown",
      "id": "2238e71b-2202-43fd-83aa-52290e67e778",
      "metadata": {
        "id": "2238e71b-2202-43fd-83aa-52290e67e778"
      },
      "source": [
        "These questions can guide further analysis and exploration of the dataset, providing insights into team performance and comparisons."
      ]
    },
    {
      "cell_type": "code",
      "execution_count": null,
      "id": "fe9cd472-066c-490b-b2dc-b9b3d91d581b",
      "metadata": {
        "id": "fe9cd472-066c-490b-b2dc-b9b3d91d581b"
      },
      "outputs": [],
      "source": []
    }
  ],
  "metadata": {
    "kernelspec": {
      "display_name": "anaconda-2024.02-py310",
      "language": "python",
      "name": "conda-env-anaconda-2024.02-py310-py"
    },
    "language_info": {
      "codemirror_mode": {
        "name": "ipython",
        "version": 3
      },
      "file_extension": ".py",
      "mimetype": "text/x-python",
      "name": "python",
      "nbconvert_exporter": "python",
      "pygments_lexer": "ipython3",
      "version": "3.10.14"
    },
    "colab": {
      "provenance": [],
      "toc_visible": true,
      "include_colab_link": true
    }
  },
  "nbformat": 4,
  "nbformat_minor": 5
}