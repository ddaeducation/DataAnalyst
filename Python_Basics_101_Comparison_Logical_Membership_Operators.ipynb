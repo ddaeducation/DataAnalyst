{
  "cells": [
    {
      "cell_type": "markdown",
      "metadata": {
        "id": "view-in-github",
        "colab_type": "text"
      },
      "source": [
        "<a href=\"https://colab.research.google.com/github/ddaeducation/DataAnalyst/blob/main/Python_Basics_101_Comparison_Logical_Membership_Operators.ipynb\" target=\"_parent\"><img src=\"https://colab.research.google.com/assets/colab-badge.svg\" alt=\"Open In Colab\"/></a>"
      ]
    },
    {
      "cell_type": "markdown",
      "id": "55a8cb54",
      "metadata": {
        "id": "55a8cb54"
      },
      "source": [
        "# Comparison Operators"
      ]
    },
    {
      "cell_type": "code",
      "execution_count": null,
      "id": "2225bfda",
      "metadata": {
        "id": "2225bfda",
        "outputId": "fad600c0-8020-4205-8ffc-fc258a651ccd"
      },
      "outputs": [
        {
          "data": {
            "text/plain": [
              "False"
            ]
          },
          "execution_count": 6,
          "metadata": {},
          "output_type": "execute_result"
        }
      ],
      "source": [
        "10 == 50"
      ]
    },
    {
      "cell_type": "code",
      "execution_count": null,
      "id": "727037e6",
      "metadata": {
        "id": "727037e6",
        "outputId": "1756a3eb-c29b-44f3-8f73-707a84f57ac6"
      },
      "outputs": [
        {
          "data": {
            "text/plain": [
              "True"
            ]
          },
          "execution_count": 7,
          "metadata": {},
          "output_type": "execute_result"
        }
      ],
      "source": [
        "10 != 50"
      ]
    },
    {
      "cell_type": "code",
      "execution_count": null,
      "id": "5d63e258",
      "metadata": {
        "id": "5d63e258",
        "outputId": "dc316e73-0a97-48ba-a881-6e261fec58b5"
      },
      "outputs": [
        {
          "data": {
            "text/plain": [
              "True"
            ]
          },
          "execution_count": 9,
          "metadata": {},
          "output_type": "execute_result"
        }
      ],
      "source": [
        "'Vanilla' == 'Vanilla'"
      ]
    },
    {
      "cell_type": "code",
      "execution_count": null,
      "id": "d3ecdf0d",
      "metadata": {
        "id": "d3ecdf0d",
        "outputId": "baeb9b49-cf83-4f7e-a5e1-b0d63299319a"
      },
      "outputs": [
        {
          "data": {
            "text/plain": [
              "True"
            ]
          },
          "execution_count": 11,
          "metadata": {},
          "output_type": "execute_result"
        }
      ],
      "source": [
        "x = 'Vanilla'\n",
        "y = 'Chocolate'\n",
        "\n",
        "x != y"
      ]
    },
    {
      "cell_type": "code",
      "execution_count": null,
      "id": "de72b628",
      "metadata": {
        "id": "de72b628",
        "outputId": "49aa3e36-c32a-447d-b842-27c244840203"
      },
      "outputs": [
        {
          "data": {
            "text/plain": [
              "True"
            ]
          },
          "execution_count": 16,
          "metadata": {},
          "output_type": "execute_result"
        }
      ],
      "source": [
        "10 <= 10"
      ]
    },
    {
      "cell_type": "code",
      "execution_count": null,
      "id": "906cb0e7",
      "metadata": {
        "id": "906cb0e7",
        "outputId": "54f40e4c-26b0-46ac-83b3-36689699c1c4"
      },
      "outputs": [
        {
          "data": {
            "text/plain": [
              "True"
            ]
          },
          "execution_count": 18,
          "metadata": {},
          "output_type": "execute_result"
        }
      ],
      "source": [
        "50 >= 10"
      ]
    },
    {
      "cell_type": "code",
      "execution_count": null,
      "id": "f37c693b",
      "metadata": {
        "id": "f37c693b"
      },
      "outputs": [],
      "source": []
    },
    {
      "cell_type": "markdown",
      "id": "fb9a057c",
      "metadata": {
        "id": "fb9a057c"
      },
      "source": [
        "# Logical Operators"
      ]
    },
    {
      "cell_type": "code",
      "execution_count": null,
      "id": "4b655b3f",
      "metadata": {
        "id": "4b655b3f",
        "outputId": "b52433b6-632a-44ec-8a99-d1f5968f3cc6"
      },
      "outputs": [
        {
          "data": {
            "text/plain": [
              "True"
            ]
          },
          "execution_count": 22,
          "metadata": {},
          "output_type": "execute_result"
        }
      ],
      "source": [
        "(70 > 50) and (50 > 10)"
      ]
    },
    {
      "cell_type": "code",
      "execution_count": null,
      "id": "fc1260f0",
      "metadata": {
        "id": "fc1260f0",
        "outputId": "e20f9244-230d-424d-89bc-2f4b9059b58f"
      },
      "outputs": [
        {
          "data": {
            "text/plain": [
              "True"
            ]
          },
          "execution_count": 23,
          "metadata": {},
          "output_type": "execute_result"
        }
      ],
      "source": [
        "(10 > 50) or (50 > 10)"
      ]
    },
    {
      "cell_type": "code",
      "execution_count": null,
      "id": "2dd46dc2",
      "metadata": {
        "id": "2dd46dc2",
        "outputId": "7bbbd187-c1db-462e-8543-a72e27a78364"
      },
      "outputs": [
        {
          "data": {
            "text/plain": [
              "True"
            ]
          },
          "execution_count": 25,
          "metadata": {},
          "output_type": "execute_result"
        }
      ],
      "source": [
        "('Vanilla' > 'Chocolate') and (50 > 10)"
      ]
    },
    {
      "cell_type": "code",
      "execution_count": null,
      "id": "65897714",
      "metadata": {
        "id": "65897714",
        "outputId": "9c7e04a9-22c7-4cef-a650-21f3029273fe"
      },
      "outputs": [
        {
          "data": {
            "text/plain": [
              "False"
            ]
          },
          "execution_count": 26,
          "metadata": {},
          "output_type": "execute_result"
        }
      ],
      "source": [
        "not(50 > 10)"
      ]
    },
    {
      "cell_type": "code",
      "execution_count": null,
      "id": "127ed062",
      "metadata": {
        "id": "127ed062"
      },
      "outputs": [],
      "source": []
    },
    {
      "cell_type": "markdown",
      "id": "8b15d984",
      "metadata": {
        "id": "8b15d984"
      },
      "source": [
        "# Membership Operators"
      ]
    },
    {
      "cell_type": "code",
      "execution_count": null,
      "id": "e26b9b43",
      "metadata": {
        "id": "e26b9b43",
        "outputId": "6d5e91b8-dc01-49c0-9b30-dc1ac5d1821e"
      },
      "outputs": [
        {
          "data": {
            "text/plain": [
              "True"
            ]
          },
          "execution_count": 28,
          "metadata": {},
          "output_type": "execute_result"
        }
      ],
      "source": [
        "ice_cream = 'I love Chocolate ice cream'\n",
        "\n",
        "'love' in 'I love Chocolate ice cream'"
      ]
    },
    {
      "cell_type": "code",
      "execution_count": null,
      "id": "814fd163",
      "metadata": {
        "id": "814fd163",
        "outputId": "0860c310-c7d0-4275-ab9a-21c6c981a4cf"
      },
      "outputs": [
        {
          "data": {
            "text/plain": [
              "False"
            ]
          },
          "execution_count": 32,
          "metadata": {},
          "output_type": "execute_result"
        }
      ],
      "source": [
        "scoops = [1,2,3,4,5]\n",
        "wanted_scoops = 8\n",
        "\n",
        "wanted_scoops in scoops"
      ]
    }
  ],
  "metadata": {
    "kernelspec": {
      "display_name": "Python 3 (ipykernel)",
      "language": "python",
      "name": "python3"
    },
    "language_info": {
      "codemirror_mode": {
        "name": "ipython",
        "version": 3
      },
      "file_extension": ".py",
      "mimetype": "text/x-python",
      "name": "python",
      "nbconvert_exporter": "python",
      "pygments_lexer": "ipython3",
      "version": "3.9.12"
    },
    "colab": {
      "provenance": [],
      "include_colab_link": true
    }
  },
  "nbformat": 4,
  "nbformat_minor": 5
}