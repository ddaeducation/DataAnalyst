{
  "cells": [
    {
      "cell_type": "markdown",
      "metadata": {
        "id": "view-in-github",
        "colab_type": "text"
      },
      "source": [
        "<a href=\"https://colab.research.google.com/github/ddaeducation/DataAnalyst/blob/main/Comparison%2C_Logical%2C_and_Membership_Operators.ipynb\" target=\"_parent\"><img src=\"https://colab.research.google.com/assets/colab-badge.svg\" alt=\"Open In Colab\"/></a>"
      ]
    },
    {
      "cell_type": "markdown",
      "id": "38e964c6-3770-4b77-927a-bb222c5ea2a9",
      "metadata": {
        "id": "38e964c6-3770-4b77-927a-bb222c5ea2a9"
      },
      "source": [
        "Comparison, logical, and membership operators in Python are essential for decision-making and data manipulation.\n",
        "**Comparison operators** (`==`, `!=`, `>`, `<`, `>=`, `<=`) compare two values and return `True` or `False`, commonly used in control flow.\n",
        "\n",
        "**Logical operators** (`and`, `or`, `not`) combine multiple conditions, enabling complex decision-making. For instance, `and` returns `True` if both conditions are true, `or` if at least one is true, and `not` negates a condition.\n",
        "\n",
        "**Membership operators** (`in`, `not in`) check if a value exists within a sequence like a list or string. They simplify tests for element presence. Mastery of these operators strengthens logical reasoning, allowing developers to write efficient, dynamic Python code."
      ]
    },
    {
      "cell_type": "markdown",
      "id": "57dad333-a91a-42f5-846f-b696a39cf764",
      "metadata": {
        "id": "57dad333-a91a-42f5-846f-b696a39cf764"
      },
      "source": [
        "### Comparison Operators\n",
        "\n",
        "**Note:**\n",
        "Comparison operators are used to compare two values. They return a Boolean value (`True` or `False`) based on the comparison. The common comparison operators in Python are:\n",
        "\n",
        "1. `==` (Equal to)\n",
        "2. `!=` (Not equal to)\n",
        "3. `>` (Greater than)\n",
        "4. `<` (Less than)\n",
        "5. `>=` (Greater than or equal to)\n",
        "6. `<=` (Less than or equal to)"
      ]
    },
    {
      "cell_type": "markdown",
      "id": "5f3aefdf-ceeb-47f7-a02b-e0291b0b8ee8",
      "metadata": {
        "id": "5f3aefdf-ceeb-47f7-a02b-e0291b0b8ee8"
      },
      "source": [
        "**Questions:**\n",
        "\n",
        "1. What is the result of `5 == 5`?\n",
        "2. How does `3 != 4` evaluate?\n",
        "3. What will `10 > 7` return?\n",
        "4. Is `2 < 1` true or false?\n",
        "5. What does `8 >= 8` return?\n",
        "6. Evaluate `6 <= 5`.\n",
        "7. What is the output of `4 == 4.0`?\n",
        "8. How does `-1 > 0` evaluate?\n",
        "9. What will `5 <= 5` return?\n",
        "10. Is `3.5 < 3` true or false?\n",
        "---"
      ]
    },
    {
      "cell_type": "markdown",
      "id": "ca45b3ce-3b46-4af1-bd36-5e0f33c990ca",
      "metadata": {
        "id": "ca45b3ce-3b46-4af1-bd36-5e0f33c990ca"
      },
      "source": [
        "#### Answer"
      ]
    },
    {
      "cell_type": "code",
      "execution_count": null,
      "id": "595d5fef-94b3-42fb-9ef9-4b248062e9cc",
      "metadata": {
        "id": "595d5fef-94b3-42fb-9ef9-4b248062e9cc"
      },
      "outputs": [],
      "source": []
    },
    {
      "cell_type": "code",
      "execution_count": null,
      "id": "11c36ac1-57fe-4c27-8270-d6a20949688b",
      "metadata": {
        "id": "11c36ac1-57fe-4c27-8270-d6a20949688b"
      },
      "outputs": [],
      "source": []
    },
    {
      "cell_type": "markdown",
      "id": "5e8573bd-a6d4-4745-9288-4297266071a0",
      "metadata": {
        "id": "5e8573bd-a6d4-4745-9288-4297266071a0"
      },
      "source": [
        "### Logical Operators\n",
        "\n",
        "**Note:**\n",
        "Logical operators are used to combine conditional statements. The common logical operators in Python are:\n",
        "\n",
        "1. `and` (Returns True if both statements are true)\n",
        "2. `or` (Returns True if at least one statement is true)\n",
        "3. `not` (Reverses the result, returns False if the result is true)\n",
        "\n",
        "**Questions:**\n",
        "1. What is the result of `True and False`?\n",
        "2. How does `False or True` evaluate?\n",
        "3. What will `not True` return?\n",
        "4. Evaluate `True and True`.\n",
        "5. What does `False and True` return?\n",
        "6. How does `not (False or True)` evaluate?\n",
        "7. What is the output of `True or False`?\n",
        "8. Evaluate `not (not True)`.\n",
        "9. What will `True and (False or True)` return?\n",
        "10. Is `not (True and False)` true or false?\n"
      ]
    },
    {
      "cell_type": "markdown",
      "id": "c52b8c4a-c4be-4c41-a0ff-5ac429a908bf",
      "metadata": {
        "id": "c52b8c4a-c4be-4c41-a0ff-5ac429a908bf"
      },
      "source": [
        "#### Answer"
      ]
    },
    {
      "cell_type": "code",
      "execution_count": null,
      "id": "4c5bc6c6-95ab-4b8a-8b68-98a7507fb14c",
      "metadata": {
        "id": "4c5bc6c6-95ab-4b8a-8b68-98a7507fb14c"
      },
      "outputs": [],
      "source": []
    },
    {
      "cell_type": "code",
      "execution_count": null,
      "id": "be2e69e1-1db3-4058-abe2-fd9031ba2f4f",
      "metadata": {
        "id": "be2e69e1-1db3-4058-abe2-fd9031ba2f4f"
      },
      "outputs": [],
      "source": []
    },
    {
      "cell_type": "markdown",
      "id": "f7820e74-b3e1-4364-a1a5-1048bcda7f57",
      "metadata": {
        "id": "f7820e74-b3e1-4364-a1a5-1048bcda7f57"
      },
      "source": [
        "---\n",
        "\n",
        "### Membership Operators\n",
        "\n",
        "**Note:**\n",
        "Membership operators are used to test if a value is found in a sequence (like a list, tuple, or string). The common membership operators in Python are:\n",
        "\n",
        "1. `in` (Returns True if the value is found in the sequence)\n",
        "2. `not in` (Returns True if the value is not found in the sequence)\n",
        "\n",
        "**Questions:**\n",
        "1. What is the result of `5 in [1, 2, 3, 4, 5]`?\n",
        "2. How does `'a' in 'apple'` evaluate?\n",
        "3. What will `3 not in [1, 2, 4, 5]` return?\n",
        "4. Evaluate `10 in (10, 20, 30)`.\n",
        "5. What does `'x' not in 'example'` return?\n",
        "6. How does `2 in {1, 2, 3}` evaluate?\n",
        "7. What is the output of `4 not in [1, 2, 3]`?\n",
        "8. Evaluate `True in [True, False]`.\n",
        "9. What will `None in [None, 1, 2]` return?\n",
        "10. Is `5 not in range(1, 10)` true or false?"
      ]
    },
    {
      "cell_type": "markdown",
      "id": "c23237c8-1dc9-4d13-8144-1629d11f50e1",
      "metadata": {
        "id": "c23237c8-1dc9-4d13-8144-1629d11f50e1"
      },
      "source": [
        "#### Answer"
      ]
    },
    {
      "cell_type": "code",
      "execution_count": null,
      "id": "ec9e7baa-40d6-42cb-8461-b812b4845408",
      "metadata": {
        "id": "ec9e7baa-40d6-42cb-8461-b812b4845408"
      },
      "outputs": [],
      "source": []
    }
  ],
  "metadata": {
    "kernelspec": {
      "display_name": "anaconda-2024.02-py310",
      "language": "python",
      "name": "conda-env-anaconda-2024.02-py310-py"
    },
    "language_info": {
      "codemirror_mode": {
        "name": "ipython",
        "version": 3
      },
      "file_extension": ".py",
      "mimetype": "text/x-python",
      "name": "python",
      "nbconvert_exporter": "python",
      "pygments_lexer": "ipython3",
      "version": "3.10.14"
    },
    "colab": {
      "provenance": [],
      "toc_visible": true,
      "include_colab_link": true
    }
  },
  "nbformat": 4,
  "nbformat_minor": 5
}