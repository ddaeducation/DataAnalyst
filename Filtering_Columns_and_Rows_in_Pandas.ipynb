{
  "cells": [
    {
      "cell_type": "markdown",
      "metadata": {
        "id": "view-in-github",
        "colab_type": "text"
      },
      "source": [
        "<a href=\"https://colab.research.google.com/github/ddaeducation/DataAnalyst/blob/main/Filtering_Columns_and_Rows_in_Pandas.ipynb\" target=\"_parent\"><img src=\"https://colab.research.google.com/assets/colab-badge.svg\" alt=\"Open In Colab\"/></a>"
      ]
    },
    {
      "cell_type": "markdown",
      "id": "f5508fba-0f64-4b22-9ef9-8782a4b2b2e1",
      "metadata": {
        "id": "f5508fba-0f64-4b22-9ef9-8782a4b2b2e1"
      },
      "source": [
        "## Filtering Columns and Rows in Pandas"
      ]
    },
    {
      "cell_type": "markdown",
      "id": "7e2c6869-d958-48bf-b9d1-7c93e203681f",
      "metadata": {
        "id": "7e2c6869-d958-48bf-b9d1-7c93e203681f"
      },
      "source": [
        "### Learning Objectives\n",
        "1. Understand how to filter rows and columns in a Pandas DataFrame.\n",
        "2. Learn to apply conditions to filter data.\n",
        "3. Gain familiarity with indexing and selecting data in Pandas.\n",
        "\n",
        "### Introduction\n",
        "Pandas is a powerful data manipulation library in Python that provides data structures like Series and DataFrames. Filtering data is a common operation in data analysis, allowing you to focus on specific subsets of your data based on certain conditions. This can be particularly useful in data science for cleaning and preparing data for analysis.\n",
        "\n",
        "### Filtering Columns and Rows in Pandas\n",
        "To filter columns and rows in a Pandas DataFrame, you can use various methods such as boolean indexing, the `.loc[]` and `.iloc[]` accessors, and the `.query()` method. Below is an example of how to filter data using a sample DataFrame.\n",
        "\n",
        "#### Example Data\n",
        "Let's create a sample DataFrame to demonstrate filtering:\n"
      ]
    },
    {
      "cell_type": "code",
      "execution_count": null,
      "id": "7d8eb104-1b45-4e81-9712-b46b2020fd47",
      "metadata": {
        "id": "7d8eb104-1b45-4e81-9712-b46b2020fd47",
        "outputId": "91d2fa86-5a67-4f9b-ad6f-fe1cbbd18c20"
      },
      "outputs": [
        {
          "data": {
            "text/html": [
              "<div>\n",
              "<style scoped>\n",
              "    .dataframe tbody tr th:only-of-type {\n",
              "        vertical-align: middle;\n",
              "    }\n",
              "\n",
              "    .dataframe tbody tr th {\n",
              "        vertical-align: top;\n",
              "    }\n",
              "\n",
              "    .dataframe thead th {\n",
              "        text-align: right;\n",
              "    }\n",
              "</style>\n",
              "<table border=\"1\" class=\"dataframe\">\n",
              "  <thead>\n",
              "    <tr style=\"text-align: right;\">\n",
              "      <th></th>\n",
              "      <th>Name</th>\n",
              "      <th>Age</th>\n",
              "      <th>City</th>\n",
              "      <th>Salary</th>\n",
              "    </tr>\n",
              "  </thead>\n",
              "  <tbody>\n",
              "    <tr>\n",
              "      <th>0</th>\n",
              "      <td>Alice</td>\n",
              "      <td>24</td>\n",
              "      <td>New York</td>\n",
              "      <td>70000</td>\n",
              "    </tr>\n",
              "    <tr>\n",
              "      <th>1</th>\n",
              "      <td>Bob</td>\n",
              "      <td>27</td>\n",
              "      <td>Los Angeles</td>\n",
              "      <td>80000</td>\n",
              "    </tr>\n",
              "    <tr>\n",
              "      <th>2</th>\n",
              "      <td>Charlie</td>\n",
              "      <td>22</td>\n",
              "      <td>Chicago</td>\n",
              "      <td>60000</td>\n",
              "    </tr>\n",
              "    <tr>\n",
              "      <th>3</th>\n",
              "      <td>David</td>\n",
              "      <td>32</td>\n",
              "      <td>Houston</td>\n",
              "      <td>90000</td>\n",
              "    </tr>\n",
              "    <tr>\n",
              "      <th>4</th>\n",
              "      <td>Eva</td>\n",
              "      <td>29</td>\n",
              "      <td>Phoenix</td>\n",
              "      <td>75000</td>\n",
              "    </tr>\n",
              "  </tbody>\n",
              "</table>\n",
              "</div>"
            ],
            "text/plain": [
              "      Name  Age         City  Salary\n",
              "0    Alice   24     New York   70000\n",
              "1      Bob   27  Los Angeles   80000\n",
              "2  Charlie   22      Chicago   60000\n",
              "3    David   32      Houston   90000\n",
              "4      Eva   29      Phoenix   75000"
            ]
          },
          "execution_count": 116,
          "metadata": {},
          "output_type": "execute_result"
        }
      ],
      "source": [
        "import pandas as pd\n",
        "\n",
        "# Sample data\n",
        "data = {\n",
        "    'Name': ['Alice', 'Bob', 'Charlie', 'David', 'Eva'],\n",
        "    'Age': [24, 27, 22, 32, 29],\n",
        "    'City': ['New York', 'Los Angeles', 'Chicago', 'Houston', 'Phoenix'],\n",
        "    'Salary': [70000, 80000, 60000, 90000, 75000]\n",
        "}\n",
        "# Create DataFrame\n",
        "df = pd.DataFrame(data)\n",
        "# Display the DataFrame\n",
        "df"
      ]
    },
    {
      "cell_type": "markdown",
      "id": "be610d9d-1ccd-4873-bce4-56963ad9b81b",
      "metadata": {
        "id": "be610d9d-1ccd-4873-bce4-56963ad9b81b"
      },
      "source": [
        "\n",
        "### Filtering Examples\n",
        "1. **Filter Rows by Condition**: Select rows where Age is greater than 25.\n",
        "   "
      ]
    },
    {
      "cell_type": "code",
      "execution_count": null,
      "id": "43717aa6-a46e-4f95-b393-fd6cb207cad2",
      "metadata": {
        "id": "43717aa6-a46e-4f95-b393-fd6cb207cad2",
        "outputId": "aaaef783-38f4-462e-9f32-9a59b7b22935"
      },
      "outputs": [
        {
          "data": {
            "text/html": [
              "<div>\n",
              "<style scoped>\n",
              "    .dataframe tbody tr th:only-of-type {\n",
              "        vertical-align: middle;\n",
              "    }\n",
              "\n",
              "    .dataframe tbody tr th {\n",
              "        vertical-align: top;\n",
              "    }\n",
              "\n",
              "    .dataframe thead th {\n",
              "        text-align: right;\n",
              "    }\n",
              "</style>\n",
              "<table border=\"1\" class=\"dataframe\">\n",
              "  <thead>\n",
              "    <tr style=\"text-align: right;\">\n",
              "      <th></th>\n",
              "      <th>Name</th>\n",
              "      <th>Age</th>\n",
              "      <th>City</th>\n",
              "      <th>Salary</th>\n",
              "    </tr>\n",
              "  </thead>\n",
              "  <tbody>\n",
              "    <tr>\n",
              "      <th>1</th>\n",
              "      <td>Bob</td>\n",
              "      <td>27</td>\n",
              "      <td>Los Angeles</td>\n",
              "      <td>80000</td>\n",
              "    </tr>\n",
              "    <tr>\n",
              "      <th>3</th>\n",
              "      <td>David</td>\n",
              "      <td>32</td>\n",
              "      <td>Houston</td>\n",
              "      <td>90000</td>\n",
              "    </tr>\n",
              "    <tr>\n",
              "      <th>4</th>\n",
              "      <td>Eva</td>\n",
              "      <td>29</td>\n",
              "      <td>Phoenix</td>\n",
              "      <td>75000</td>\n",
              "    </tr>\n",
              "  </tbody>\n",
              "</table>\n",
              "</div>"
            ],
            "text/plain": [
              "    Name  Age         City  Salary\n",
              "1    Bob   27  Los Angeles   80000\n",
              "3  David   32      Houston   90000\n",
              "4    Eva   29      Phoenix   75000"
            ]
          },
          "execution_count": 119,
          "metadata": {},
          "output_type": "execute_result"
        }
      ],
      "source": [
        "   df[df['Age'] > 25]\n",
        ""
      ]
    },
    {
      "cell_type": "markdown",
      "id": "01c8f611-69b5-41eb-bdfe-7451184d67eb",
      "metadata": {
        "id": "01c8f611-69b5-41eb-bdfe-7451184d67eb"
      },
      "source": [
        "\n",
        "2. **Filter Specific Columns**: Select only the 'Name' and 'Salary' columns.\n",
        "   "
      ]
    },
    {
      "cell_type": "code",
      "execution_count": null,
      "id": "3977a5ca-6e54-41f5-a4ea-a8652506a495",
      "metadata": {
        "id": "3977a5ca-6e54-41f5-a4ea-a8652506a495",
        "outputId": "55a80224-cb7c-4ab3-b07d-8921f30e4c2f"
      },
      "outputs": [
        {
          "data": {
            "text/html": [
              "<div>\n",
              "<style scoped>\n",
              "    .dataframe tbody tr th:only-of-type {\n",
              "        vertical-align: middle;\n",
              "    }\n",
              "\n",
              "    .dataframe tbody tr th {\n",
              "        vertical-align: top;\n",
              "    }\n",
              "\n",
              "    .dataframe thead th {\n",
              "        text-align: right;\n",
              "    }\n",
              "</style>\n",
              "<table border=\"1\" class=\"dataframe\">\n",
              "  <thead>\n",
              "    <tr style=\"text-align: right;\">\n",
              "      <th></th>\n",
              "      <th>Name</th>\n",
              "      <th>Salary</th>\n",
              "    </tr>\n",
              "  </thead>\n",
              "  <tbody>\n",
              "    <tr>\n",
              "      <th>0</th>\n",
              "      <td>Alice</td>\n",
              "      <td>70000</td>\n",
              "    </tr>\n",
              "    <tr>\n",
              "      <th>1</th>\n",
              "      <td>Bob</td>\n",
              "      <td>80000</td>\n",
              "    </tr>\n",
              "    <tr>\n",
              "      <th>2</th>\n",
              "      <td>Charlie</td>\n",
              "      <td>60000</td>\n",
              "    </tr>\n",
              "    <tr>\n",
              "      <th>3</th>\n",
              "      <td>David</td>\n",
              "      <td>90000</td>\n",
              "    </tr>\n",
              "    <tr>\n",
              "      <th>4</th>\n",
              "      <td>Eva</td>\n",
              "      <td>75000</td>\n",
              "    </tr>\n",
              "  </tbody>\n",
              "</table>\n",
              "</div>"
            ],
            "text/plain": [
              "      Name  Salary\n",
              "0    Alice   70000\n",
              "1      Bob   80000\n",
              "2  Charlie   60000\n",
              "3    David   90000\n",
              "4      Eva   75000"
            ]
          },
          "execution_count": 122,
          "metadata": {},
          "output_type": "execute_result"
        }
      ],
      "source": [
        "   df[['Name', 'Salary']]\n",
        ""
      ]
    },
    {
      "cell_type": "markdown",
      "id": "50c023d4-2ec3-46b9-a393-4605d3f07ede",
      "metadata": {
        "id": "50c023d4-2ec3-46b9-a393-4605d3f07ede"
      },
      "source": [
        "\n",
        "3. **Filter Rows with Multiple Conditions**: Select rows where Age is greater than 25 and Salary is less than 80000.\n",
        "   "
      ]
    },
    {
      "cell_type": "code",
      "execution_count": null,
      "id": "4b2889b9-0b2d-4fec-ad07-512b0cb0ee76",
      "metadata": {
        "id": "4b2889b9-0b2d-4fec-ad07-512b0cb0ee76",
        "outputId": "1458d4fa-eee3-4b3a-9ed1-7cf3af8c3bde"
      },
      "outputs": [
        {
          "data": {
            "text/html": [
              "<div>\n",
              "<style scoped>\n",
              "    .dataframe tbody tr th:only-of-type {\n",
              "        vertical-align: middle;\n",
              "    }\n",
              "\n",
              "    .dataframe tbody tr th {\n",
              "        vertical-align: top;\n",
              "    }\n",
              "\n",
              "    .dataframe thead th {\n",
              "        text-align: right;\n",
              "    }\n",
              "</style>\n",
              "<table border=\"1\" class=\"dataframe\">\n",
              "  <thead>\n",
              "    <tr style=\"text-align: right;\">\n",
              "      <th></th>\n",
              "      <th>Name</th>\n",
              "      <th>Age</th>\n",
              "      <th>City</th>\n",
              "      <th>Salary</th>\n",
              "    </tr>\n",
              "  </thead>\n",
              "  <tbody>\n",
              "    <tr>\n",
              "      <th>4</th>\n",
              "      <td>Eva</td>\n",
              "      <td>29</td>\n",
              "      <td>Phoenix</td>\n",
              "      <td>75000</td>\n",
              "    </tr>\n",
              "  </tbody>\n",
              "</table>\n",
              "</div>"
            ],
            "text/plain": [
              "  Name  Age     City  Salary\n",
              "4  Eva   29  Phoenix   75000"
            ]
          },
          "execution_count": 125,
          "metadata": {},
          "output_type": "execute_result"
        }
      ],
      "source": [
        "   df[(df['Age'] > 25) & (df['Salary'] < 80000)]\n",
        ""
      ]
    },
    {
      "cell_type": "markdown",
      "id": "79df3001-1e32-498d-9011-c663b4a7e782",
      "metadata": {
        "id": "79df3001-1e32-498d-9011-c663b4a7e782"
      },
      "source": [
        "\n",
        "### Questions for Jupyter Notebook\n",
        "Here are 10 questions that can be used in a Jupyter Notebook format, each designed to test understanding of filtering in Pandas:\n",
        "\n",
        "**Question 1**: What is the purpose of filtering data in a DataFrame?"
      ]
    },
    {
      "cell_type": "code",
      "execution_count": null,
      "id": "f7107f5e-1a75-4e05-8408-f1e0bbe6ac24",
      "metadata": {
        "id": "f7107f5e-1a75-4e05-8408-f1e0bbe6ac24"
      },
      "outputs": [],
      "source": []
    },
    {
      "cell_type": "markdown",
      "id": "34f51cd7-9022-4e5e-8c2c-e1330ced03d2",
      "metadata": {
        "id": "34f51cd7-9022-4e5e-8c2c-e1330ced03d2"
      },
      "source": [
        "**Question 2**: How can you filter rows in a DataFrame where the 'City' is 'Chicago'?"
      ]
    },
    {
      "cell_type": "code",
      "execution_count": null,
      "id": "32abc95b-3f52-45fe-93c2-ebfc022fbcb6",
      "metadata": {
        "id": "32abc95b-3f52-45fe-93c2-ebfc022fbcb6"
      },
      "outputs": [],
      "source": []
    },
    {
      "cell_type": "markdown",
      "id": "a8064396-429c-4b71-9248-e87a76eef35a",
      "metadata": {
        "id": "a8064396-429c-4b71-9248-e87a76eef35a"
      },
      "source": [
        "**Question 3**: Write a command to filter the DataFrame to show only the names of individuals older than 25.\n"
      ]
    },
    {
      "cell_type": "code",
      "execution_count": null,
      "id": "e68529a4-887b-44bc-b2df-09368b587690",
      "metadata": {
        "id": "e68529a4-887b-44bc-b2df-09368b587690"
      },
      "outputs": [],
      "source": []
    },
    {
      "cell_type": "markdown",
      "id": "b4579ede-fca0-46ac-afc0-7f299f6326fe",
      "metadata": {
        "id": "b4579ede-fca0-46ac-afc0-7f299f6326fe"
      },
      "source": [
        "**Question 4**: How would you select the 'Age' and 'City' columns from the DataFrame?"
      ]
    },
    {
      "cell_type": "code",
      "execution_count": null,
      "id": "32e3f2d0-f53a-481a-a5d1-208355e169c3",
      "metadata": {
        "id": "32e3f2d0-f53a-481a-a5d1-208355e169c3"
      },
      "outputs": [],
      "source": []
    },
    {
      "cell_type": "markdown",
      "id": "da53ade5-6da2-4370-9836-946a325339bb",
      "metadata": {
        "id": "da53ade5-6da2-4370-9836-946a325339bb"
      },
      "source": [
        "**Question 5**: What is the difference between `.loc[]` and `.iloc[]` in Pandas?"
      ]
    },
    {
      "cell_type": "code",
      "execution_count": null,
      "id": "bfe59417-ecf0-45c5-86fc-41d543b504ea",
      "metadata": {
        "id": "bfe59417-ecf0-45c5-86fc-41d543b504ea"
      },
      "outputs": [],
      "source": []
    },
    {
      "cell_type": "markdown",
      "id": "e27905bd-71dc-4596-b79c-75af5cac5357",
      "metadata": {
        "id": "e27905bd-71dc-4596-b79c-75af5cac5357"
      },
      "source": [
        "**Question 6**: Write a command to filter the DataFrame for individuals with a salary greater than 70000 and living in 'New York'."
      ]
    },
    {
      "cell_type": "code",
      "execution_count": null,
      "id": "c03489c5-3843-4323-b68f-c04cc1865318",
      "metadata": {
        "id": "c03489c5-3843-4323-b68f-c04cc1865318"
      },
      "outputs": [],
      "source": []
    },
    {
      "cell_type": "markdown",
      "id": "c0835bf8-6cec-4ac8-8fb2-420b8f6f4863",
      "metadata": {
        "id": "c0835bf8-6cec-4ac8-8fb2-420b8f6f4863"
      },
      "source": [
        "**Question 7**: How can you use the `.query()` method to filter for individuals younger than 30?"
      ]
    },
    {
      "cell_type": "code",
      "execution_count": null,
      "id": "97e19b04-c7fa-4f7e-90fe-ee177cc73fa4",
      "metadata": {
        "id": "97e19b04-c7fa-4f7e-90fe-ee177cc73fa4"
      },
      "outputs": [],
      "source": []
    },
    {
      "cell_type": "markdown",
      "id": "6538661b-3e70-4131-8402-30c3a9bc6d1e",
      "metadata": {
        "id": "6538661b-3e70-4131-8402-30c3a9bc6d1e"
      },
      "source": [
        "**Question 8**: What will be the output of `df[df['Salary'] < 70000]`?"
      ]
    },
    {
      "cell_type": "code",
      "execution_count": null,
      "id": "d71c6f88-28d7-4f16-a57e-734bd7b479ce",
      "metadata": {
        "id": "d71c6f88-28d7-4f16-a57e-734bd7b479ce"
      },
      "outputs": [],
      "source": []
    },
    {
      "cell_type": "markdown",
      "id": "b22bc9d4-d0e0-424e-b1cc-9415636973a4",
      "metadata": {
        "id": "b22bc9d4-d0e0-424e-b1cc-9415636973a4"
      },
      "source": [
        "**Question 9**: Write a command to filter the DataFrame to show only the rows where the 'Name' starts with 'A'."
      ]
    },
    {
      "cell_type": "code",
      "execution_count": null,
      "id": "ce33499c-a85b-4b2c-9fde-d959236bea41",
      "metadata": {
        "id": "ce33499c-a85b-4b2c-9fde-d959236bea41"
      },
      "outputs": [],
      "source": []
    },
    {
      "cell_type": "markdown",
      "id": "d1b1ffa1-6421-4d29-be86-ff0790acdded",
      "metadata": {
        "id": "d1b1ffa1-6421-4d29-be86-ff0790acdded"
      },
      "source": [
        "10. **Question 10**: How can you reset the index of a filtered DataFrame?"
      ]
    },
    {
      "cell_type": "code",
      "execution_count": null,
      "id": "8a032c69-af40-45ec-a834-da7531788d4a",
      "metadata": {
        "id": "8a032c69-af40-45ec-a834-da7531788d4a"
      },
      "outputs": [],
      "source": [
        "These questions and examples should provide a comprehensive understanding of filtering columns and rows in Pandas, suitable for a data science context."
      ]
    }
  ],
  "metadata": {
    "kernelspec": {
      "display_name": "anaconda-2024.02-py310",
      "language": "python",
      "name": "conda-env-anaconda-2024.02-py310-py"
    },
    "language_info": {
      "codemirror_mode": {
        "name": "ipython",
        "version": 3
      },
      "file_extension": ".py",
      "mimetype": "text/x-python",
      "name": "python",
      "nbconvert_exporter": "python",
      "pygments_lexer": "ipython3",
      "version": "3.10.14"
    },
    "colab": {
      "provenance": [],
      "toc_visible": true,
      "include_colab_link": true
    }
  },
  "nbformat": 4,
  "nbformat_minor": 5
}