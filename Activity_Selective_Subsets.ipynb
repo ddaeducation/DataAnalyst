{
  "cells": [
    {
      "cell_type": "markdown",
      "metadata": {
        "id": "view-in-github",
        "colab_type": "text"
      },
      "source": [
        "<a href=\"https://colab.research.google.com/github/ddaeducation/DataAnalyst/blob/main/Activity_Selective_Subsets.ipynb\" target=\"_parent\"><img src=\"https://colab.research.google.com/assets/colab-badge.svg\" alt=\"Open In Colab\"/></a>"
      ]
    },
    {
      "cell_type": "markdown",
      "metadata": {
        "deletable": false,
        "editable": false,
        "jupyter": {
          "outputs_hidden": false
        },
        "nbgrader": {
          "cell_type": "markdown",
          "checksum": "b5af6c86f534b40a7b1a3aea992a18b9",
          "grade": false,
          "grade_id": "cell-3c5f1c4d03f0d579",
          "locked": true,
          "schema_version": 3,
          "solution": false,
          "task": false
        },
        "id": "NTilujQzhvC8"
      },
      "source": [
        "# Activity: Selective Subsets\n",
        "\n",
        "## Introduction\n",
        "\n",
        "In this activity you will practice selecting subsets of data from a DataFrame using Pandas.\n",
        "This activity will cover the following topics:\n",
        "- Creating masks\n",
        "- Negating masks\n",
        "- Masks with slicing\n",
        "- Null value masks\n"
      ]
    },
    {
      "cell_type": "markdown",
      "metadata": {
        "deletable": false,
        "editable": false,
        "jupyter": {
          "outputs_hidden": false
        },
        "nbgrader": {
          "cell_type": "markdown",
          "checksum": "2a74272079a14bee049350698c605aa2",
          "grade": false,
          "grade_id": "cell-34eec58bed6cb011",
          "locked": true,
          "schema_version": 3,
          "solution": false,
          "task": false
        },
        "id": "58wrRE4dhvC8"
      },
      "source": [
        "#### Question 1\n",
        "\n",
        "Create a `DataFrame` called `df` from the given CSV file [movie_data.csv](https://github.com/ddaeducation/DataAnalyst/blob/main/movie_data.csv), and then create a mask called `before_millennium` to select all movies that were released before 2000.\n"
      ]
    },
    {
      "cell_type": "code",
      "execution_count": null,
      "metadata": {
        "deletable": false,
        "jupyter": {
          "outputs_hidden": false
        },
        "nbgrader": {
          "cell_type": "code",
          "checksum": "cf7417f40182d706b4123aaf472e24f7",
          "grade": false,
          "grade_id": "cell-240a9f6b83e2bc8e",
          "locked": false,
          "schema_version": 3,
          "solution": true,
          "task": false
        },
        "id": "plkzAAzEhvC8"
      },
      "outputs": [],
      "source": [
        "import pandas as pd\n",
        "\n",
        "# Your code here\n",
        "\n",
        "# your code here\n",
        "\n"
      ]
    },
    {
      "cell_type": "code",
      "execution_count": null,
      "metadata": {
        "deletable": false,
        "editable": false,
        "jupyter": {
          "outputs_hidden": false
        },
        "nbgrader": {
          "cell_type": "code",
          "checksum": "331a77372a6cc384e140ad60c120a58b",
          "grade": true,
          "grade_id": "cell-c67cccfe6b6864c5",
          "locked": true,
          "points": 1,
          "schema_version": 3,
          "solution": false,
          "task": false
        },
        "id": "9G5KNEuYhvC9",
        "outputId": "f12a191b-e3e8-4c6e-a71c-38af2ecb1bcd"
      },
      "outputs": [
        {
          "ename": "NameError",
          "evalue": "name 'df' is not defined",
          "output_type": "error",
          "traceback": [
            "\u001b[0;31m---------------------------------------------------------------------------\u001b[0m",
            "\u001b[0;31mNameError\u001b[0m                                 Traceback (most recent call last)",
            "\u001b[0;32m<ipython-input-1-856dad1ae026>\u001b[0m in \u001b[0;36m<module>\u001b[0;34m\u001b[0m\n\u001b[1;32m      1\u001b[0m \u001b[0;31m# Question 1 Grading Checks\u001b[0m\u001b[0;34m\u001b[0m\u001b[0;34m\u001b[0m\u001b[0;34m\u001b[0m\u001b[0m\n\u001b[1;32m      2\u001b[0m \u001b[0;34m\u001b[0m\u001b[0m\n\u001b[0;32m----> 3\u001b[0;31m \u001b[0;32massert\u001b[0m \u001b[0misinstance\u001b[0m\u001b[0;34m(\u001b[0m\u001b[0mdf\u001b[0m\u001b[0;34m,\u001b[0m \u001b[0mpd\u001b[0m\u001b[0;34m.\u001b[0m\u001b[0mDataFrame\u001b[0m\u001b[0;34m)\u001b[0m\u001b[0;34m,\u001b[0m \u001b[0;34m'Did you create a DataFrame called df?'\u001b[0m\u001b[0;34m\u001b[0m\u001b[0;34m\u001b[0m\u001b[0m\n\u001b[0m",
            "\u001b[0;31mNameError\u001b[0m: name 'df' is not defined"
          ]
        }
      ],
      "source": [
        "# Question 1 Grading Checks\n",
        "\n",
        "assert isinstance(df, pd.DataFrame), 'Did you create a DataFrame called df?'\n"
      ]
    },
    {
      "cell_type": "markdown",
      "metadata": {
        "deletable": false,
        "editable": false,
        "jupyter": {
          "outputs_hidden": false
        },
        "nbgrader": {
          "cell_type": "markdown",
          "checksum": "b94d8e8aea3329f9afeb00b80aa35e44",
          "grade": false,
          "grade_id": "cell-af0aae1cde2e5485",
          "locked": true,
          "schema_version": 3,
          "solution": false,
          "task": false
        },
        "id": "McxWeK1thvC9"
      },
      "source": [
        "#### Question 2\n",
        "\n",
        "Using the `before_millennium` mask from Question 1, assign the titles of every movie that was released after 2000 to a `Series` called `newer_titles`.\n"
      ]
    },
    {
      "cell_type": "code",
      "execution_count": null,
      "metadata": {
        "deletable": false,
        "jupyter": {
          "outputs_hidden": false
        },
        "nbgrader": {
          "cell_type": "code",
          "checksum": "cc222692204a71d4af2145a10255bc82",
          "grade": false,
          "grade_id": "cell-a008246edc6867e8",
          "locked": false,
          "schema_version": 3,
          "solution": true,
          "task": false
        },
        "id": "SnObSww_hvC9"
      },
      "outputs": [],
      "source": [
        "# Your code here\n",
        "\n",
        "# your code here\n",
        "\n"
      ]
    },
    {
      "cell_type": "code",
      "execution_count": null,
      "metadata": {
        "deletable": false,
        "editable": false,
        "jupyter": {
          "outputs_hidden": false
        },
        "nbgrader": {
          "cell_type": "code",
          "checksum": "9b78932da2f0af3ed58d1114090fcead",
          "grade": true,
          "grade_id": "cell-60a9d4c511c889a5",
          "locked": true,
          "points": 1,
          "schema_version": 3,
          "solution": false,
          "task": false
        },
        "id": "Sroq5DXAhvC9",
        "outputId": "2c6c462c-5331-499f-f3eb-544c324d26d9"
      },
      "outputs": [
        {
          "ename": "NameError",
          "evalue": "name 'newer_titles' is not defined",
          "output_type": "error",
          "traceback": [
            "\u001b[0;31m---------------------------------------------------------------------------\u001b[0m",
            "\u001b[0;31mNameError\u001b[0m                                 Traceback (most recent call last)",
            "\u001b[0;32m<ipython-input-3-18f4d03b9716>\u001b[0m in \u001b[0;36m<module>\u001b[0;34m\u001b[0m\n\u001b[1;32m      1\u001b[0m \u001b[0;31m# Question 2 Grading Checks\u001b[0m\u001b[0;34m\u001b[0m\u001b[0;34m\u001b[0m\u001b[0;34m\u001b[0m\u001b[0m\n\u001b[1;32m      2\u001b[0m \u001b[0;34m\u001b[0m\u001b[0m\n\u001b[0;32m----> 3\u001b[0;31m \u001b[0;32massert\u001b[0m \u001b[0misinstance\u001b[0m\u001b[0;34m(\u001b[0m\u001b[0mnewer_titles\u001b[0m\u001b[0;34m,\u001b[0m \u001b[0mpd\u001b[0m\u001b[0;34m.\u001b[0m\u001b[0mSeries\u001b[0m\u001b[0;34m)\u001b[0m\u001b[0;34m,\u001b[0m \u001b[0;34m'Did you create a Series called newer_titles?'\u001b[0m\u001b[0;34m\u001b[0m\u001b[0;34m\u001b[0m\u001b[0m\n\u001b[0m",
            "\u001b[0;31mNameError\u001b[0m: name 'newer_titles' is not defined"
          ]
        }
      ],
      "source": [
        "# Question 2 Grading Checks\n",
        "\n",
        "assert isinstance(newer_titles, pd.Series), 'Did you create a Series called newer_titles?'\n"
      ]
    },
    {
      "cell_type": "markdown",
      "metadata": {
        "deletable": false,
        "editable": false,
        "jupyter": {
          "outputs_hidden": false
        },
        "nbgrader": {
          "cell_type": "markdown",
          "checksum": "38e0c0a87b0f2f9423ac28d2d808b756",
          "grade": false,
          "grade_id": "cell-f4e9085189c67476",
          "locked": true,
          "schema_version": 3,
          "solution": false,
          "task": false
        },
        "id": "krAy-WiFhvC9"
      },
      "source": [
        "#### Question 3\n",
        "\n",
        "Create a mask to select movies with a `Rating` of `8.9` and a `Box Office ($M)` value higher than `1000.0`. Assign the resulting `Series` to a variable called `popular_pg_movies`.\n"
      ]
    },
    {
      "cell_type": "code",
      "execution_count": null,
      "metadata": {
        "deletable": false,
        "jupyter": {
          "outputs_hidden": false
        },
        "nbgrader": {
          "cell_type": "code",
          "checksum": "c1e19d56499c8a30585afa25e462330d",
          "grade": false,
          "grade_id": "cell-61027e670582168c",
          "locked": false,
          "schema_version": 3,
          "solution": true,
          "task": false
        },
        "id": "nY1jonYthvC9"
      },
      "outputs": [],
      "source": [
        "# Your code here\n",
        "\n",
        "# your code here\n",
        "\n"
      ]
    },
    {
      "cell_type": "code",
      "execution_count": null,
      "metadata": {
        "deletable": false,
        "editable": false,
        "jupyter": {
          "outputs_hidden": false
        },
        "nbgrader": {
          "cell_type": "code",
          "checksum": "95dc091403f3f17ebda38aed0735ed30",
          "grade": true,
          "grade_id": "cell-e29d54428ab17eed",
          "locked": true,
          "points": 1,
          "schema_version": 3,
          "solution": false,
          "task": false
        },
        "id": "W87DNbn1hvC9"
      },
      "outputs": [],
      "source": [
        "# Question 3 Grading Checks\n",
        "\n",
        "assert isinstance(popular_pg_movies, pd.Series), 'Did you create a Series called popular_pg_movies?'\n"
      ]
    },
    {
      "cell_type": "markdown",
      "metadata": {
        "deletable": false,
        "editable": false,
        "jupyter": {
          "outputs_hidden": false
        },
        "nbgrader": {
          "cell_type": "markdown",
          "checksum": "fbcbae2f9361e28393c548c3fc6268fe",
          "grade": false,
          "grade_id": "cell-8dfb281819663fab",
          "locked": true,
          "schema_version": 3,
          "solution": false,
          "task": false
        },
        "id": "BdXwBmqThvC9"
      },
      "source": [
        "#### Question 4\n",
        "\n",
        "Create a mask to select movies with a null value for `Box Office ($M)` or `Rating`. Assign the resulting `Series` to a variable called `missing_info`.\n"
      ]
    },
    {
      "cell_type": "code",
      "execution_count": null,
      "metadata": {
        "deletable": false,
        "jupyter": {
          "outputs_hidden": false
        },
        "nbgrader": {
          "cell_type": "code",
          "checksum": "0cc034139b543b1b74ecfac271dccae5",
          "grade": false,
          "grade_id": "cell-ea4f4905c6892e32",
          "locked": false,
          "schema_version": 3,
          "solution": true,
          "task": false
        },
        "id": "NCOgR4KOhvC9"
      },
      "outputs": [],
      "source": [
        "# Your code here\n",
        "\n",
        "# your code here\n",
        "\n"
      ]
    },
    {
      "cell_type": "code",
      "execution_count": null,
      "metadata": {
        "deletable": false,
        "editable": false,
        "jupyter": {
          "outputs_hidden": false
        },
        "nbgrader": {
          "cell_type": "code",
          "checksum": "2252c27f3be5e9d62c2b577275f6ff90",
          "grade": true,
          "grade_id": "cell-543bf8c0aea1a245",
          "locked": true,
          "points": 1,
          "schema_version": 3,
          "solution": false,
          "task": false
        },
        "id": "wYbBHBT6hvC9"
      },
      "outputs": [],
      "source": [
        "# Question 4 Grading Checks\n",
        "\n",
        "assert isinstance(missing_info, pd.Series), 'Did you create a Series called missing_info?'\n"
      ]
    }
  ],
  "metadata": {
    "kernelspec": {
      "display_name": "Python 3",
      "language": "python",
      "name": "python3"
    },
    "language_info": {
      "codemirror_mode": {
        "name": "ipython",
        "version": 3
      },
      "file_extension": ".py",
      "mimetype": "text/x-python",
      "name": "python",
      "nbconvert_exporter": "python",
      "pygments_lexer": "ipython3",
      "version": "3.7.6"
    },
    "colab": {
      "provenance": [],
      "toc_visible": true,
      "include_colab_link": true
    }
  },
  "nbformat": 4,
  "nbformat_minor": 0
}