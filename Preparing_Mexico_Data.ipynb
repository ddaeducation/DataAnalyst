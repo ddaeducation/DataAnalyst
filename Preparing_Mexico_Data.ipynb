{
  "cells": [
    {
      "cell_type": "markdown",
      "metadata": {
        "id": "view-in-github",
        "colab_type": "text"
      },
      "source": [
        "<a href=\"https://colab.research.google.com/github/ddaeducation/DataAnalyst/blob/main/Preparing_Mexico_Data.ipynb\" target=\"_parent\"><img src=\"https://colab.research.google.com/assets/colab-badge.svg\" alt=\"Open In Colab\"/></a>"
      ]
    },
    {
      "cell_type": "markdown",
      "id": "36d1ba53-f6ff-40b1-a854-5a8d5e7e31d8",
      "metadata": {
        "id": "36d1ba53-f6ff-40b1-a854-5a8d5e7e31d8"
      },
      "source": [
        "<font size=\"+3\"><strong>1. Preparing Mexico Data</strong></font>"
      ]
    },
    {
      "cell_type": "code",
      "execution_count": null,
      "id": "aaa497ff-ba15-4d30-ba3c-0f367ec7820a",
      "metadata": {
        "id": "aaa497ff-ba15-4d30-ba3c-0f367ec7820a"
      },
      "outputs": [],
      "source": [
        "import pandas as pd"
      ]
    },
    {
      "cell_type": "markdown",
      "id": "e8ff6262-6fc3-4481-9a42-be7ab359f3f2",
      "metadata": {
        "id": "e8ff6262-6fc3-4481-9a42-be7ab359f3f2"
      },
      "source": [
        "## Import"
      ]
    },
    {
      "cell_type": "markdown",
      "id": "ad039f3f-3304-4411-ab7e-e4007ab13a57",
      "metadata": {
        "id": "ad039f3f-3304-4411-ab7e-e4007ab13a57"
      },
      "source": [
        "The first part of any data science project is preparing your data, which means making sure its in the right place and format for you to conduct your analysis. The first step of any data preparation is importing your raw data and cleaning it.\n",
        "\n",
        "You'll see that the data for this project comes in three CSV files: [mexico-real-estate-1.csv](https://github.com/ddaeducation/DataAnalyst/blob/main/mexico-real-estate-1.csv), [mexico-real-estate-2.csv](https://github.com/ddaeducation/DataAnalyst/blob/main/mexico-real-estate-2.csv), and [mexico-real-estate-3.csv](https://github.com/ddaeducation/DataAnalyst/blob/main/mexico-real-estate-3.csv)."
      ]
    },
    {
      "cell_type": "code",
      "execution_count": null,
      "id": "370dfbe5-127e-4c5b-a53a-d24c15eaeb56",
      "metadata": {
        "id": "370dfbe5-127e-4c5b-a53a-d24c15eaeb56"
      },
      "outputs": [],
      "source": []
    },
    {
      "cell_type": "markdown",
      "id": "03999e9b-77dc-49e4-916b-7dd243ab7fb6",
      "metadata": {
        "id": "03999e9b-77dc-49e4-916b-7dd243ab7fb6"
      },
      "source": [
        "**Task 1.2.1:** Read these three files into three separate DataFrames named `df1`, `df2`, and `df3`, respectively.\n",
        "\n",
        "- [What's a DataFrame?](../%40textbook/03-pandas-getting-started.ipynb#Pandas)\n",
        "- [What's a CSV file?](../%40textbook/03-pandas-getting-started.ipynb#CSV-Files)\n",
        "- [Read a CSV file into a DataFrame using pandas.](../%40textbook/03-pandas-getting-started.ipynb#Working-with-DataFrames)"
      ]
    },
    {
      "cell_type": "code",
      "execution_count": null,
      "id": "761de50b-5481-458a-9264-d448ae93e36b",
      "metadata": {
        "id": "761de50b-5481-458a-9264-d448ae93e36b"
      },
      "outputs": [],
      "source": []
    },
    {
      "cell_type": "markdown",
      "id": "7ca2522a-5706-476a-bdef-3907e90ed1b3",
      "metadata": {
        "id": "7ca2522a-5706-476a-bdef-3907e90ed1b3"
      },
      "source": [
        "## Clean `df1`"
      ]
    },
    {
      "cell_type": "markdown",
      "id": "5b3a7316-8824-4c3f-8f65-8fc0b21a8d68",
      "metadata": {
        "id": "5b3a7316-8824-4c3f-8f65-8fc0b21a8d68"
      },
      "source": [
        "Now that you have your three DataFrames, it's time to inspect them to see if they need any cleaning. Let's look at them one-by-one."
      ]
    },
    {
      "cell_type": "markdown",
      "id": "c0d641ee-b69e-43da-a48d-6d782698c39c",
      "metadata": {
        "id": "c0d641ee-b69e-43da-a48d-6d782698c39c"
      },
      "source": [
        "**Task 1.2.2:** Inspect `df1` by looking at its [`shape`](https://pandas.pydata.org/docs/reference/api/pandas.DataFrame.shape.html) attribute. Then use the [`info`](https://pandas.pydata.org/docs/reference/api/pandas.DataFrame.info.htm) method to see the data types and number of missing values for each column. Finally, use the [`head`](https://pandas.pydata.org/docs/reference/api/pandas.DataFrame.head.html) method to determine to look at the first five rows of your dataset.\n",
        "\n",
        "- [Inspect a DataFrame using the `shape`, `info`, and `head` in pandas.](../%40textbook/03-pandas-getting-started.ipynb#Inspecting-DataFrames)"
      ]
    },
    {
      "cell_type": "code",
      "execution_count": null,
      "id": "db2ebc70-398d-4329-b160-ac076aa36c1d",
      "metadata": {
        "id": "db2ebc70-398d-4329-b160-ac076aa36c1d"
      },
      "outputs": [],
      "source": []
    },
    {
      "cell_type": "markdown",
      "id": "18f81e64-498b-4fc1-9e4e-3a8e70a24f6c",
      "metadata": {
        "id": "18f81e64-498b-4fc1-9e4e-3a8e70a24f6c"
      },
      "source": [
        "It looks like there are a couple of problems in this DataFrame that you need to solve. First, there are many rows with `NaN` values in the `\"lat\"` and `\"lon\"` columns. Second, the data type for the `\"price_usd\"` column is `object` when it should be `float`."
      ]
    },
    {
      "cell_type": "markdown",
      "id": "fbc18042-4f60-443c-8366-bba424592fa0",
      "metadata": {
        "id": "fbc18042-4f60-443c-8366-bba424592fa0"
      },
      "source": [
        "**Task 1.2.3:** Clean `df1` by dropping rows with `NaN` values. Then remove the `\"$\"` and `\",\"` characters from `\"price_usd\"` and recast the values in the column as floats.\n",
        "\n",
        "- [What's a data type?](../%40textbook/01-python-getting-started.ipynb#Data-Types)\n",
        "- [Drop rows with missing values from a DataFrame using pandas.](../%40textbook/03-pandas-getting-started.ipynb#Dropping-Rows)\n",
        "- [Replace string characters in a column using pandas.](../%40textbook/03-pandas-getting-started.ipynb#Replacing-String-Characters)\n",
        "- [Recast a column as a different data type in pandas.](../%40textbook/03-pandas-getting-started.ipynb#Recasting-Data) <span style='color: transparent; font-size:1%'>WQU WorldQuant University Applied Data Science Lab QQQQ</span>"
      ]
    },
    {
      "cell_type": "markdown",
      "id": "f2eaf53f-5469-43d1-a5aa-e3586a5935d8",
      "metadata": {
        "id": "f2eaf53f-5469-43d1-a5aa-e3586a5935d8"
      },
      "source": [
        "## Clean `df2`"
      ]
    },
    {
      "cell_type": "markdown",
      "id": "d540b3ab-af4c-4cab-9f44-035827b9126c",
      "metadata": {
        "id": "d540b3ab-af4c-4cab-9f44-035827b9126c"
      },
      "source": [
        "Now it's time to tackle `df2`. Take a moment to inspect it using the same commands you used before. You'll notice that it has the same issue of `NaN` values, but there's a new problem, too: The home prices are in Mexican pesos (`\"price_mxn\"`), not US dollars (`\"price_usd\"`). If we want to compare all the home prices in this dataset, they all need to be in the same currency."
      ]
    },
    {
      "cell_type": "markdown",
      "id": "9df6d72f-c3cf-4db4-b2f9-ccadd74a1442",
      "metadata": {
        "id": "9df6d72f-c3cf-4db4-b2f9-ccadd74a1442"
      },
      "source": [
        "**Task 1.2.4:** First, drop rows with `NaN` values in `df2`. Next, use the `\"price_mxn\"` column to create a new column named `\"price_usd\"`. (Keep in mind that, when this data was collected in 2014, a dollar cost 19 pesos.) Finally, drop the `\"price_mxn\"` from the DataFrame.\n",
        "\n",
        "- [Drop rows with missing values from a DataFrame using pandas.](../%40textbook/03-pandas-getting-started.ipynb#Dropping-Rows)\n",
        "- [Create new columns derived from existing columns in a DataFrame using pandas.](../%40textbook/03-pandas-getting-started.ipynb#Adding-Columns)\n",
        "- [Drop a column from a DataFrame using pandas.](../%40textbook/03-pandas-getting-started.ipynb#Dropping-Columns)"
      ]
    },
    {
      "cell_type": "code",
      "execution_count": null,
      "id": "4c8d3a3f-f1cd-4efb-a218-663b72721998",
      "metadata": {
        "id": "4c8d3a3f-f1cd-4efb-a218-663b72721998"
      },
      "outputs": [],
      "source": []
    },
    {
      "cell_type": "markdown",
      "id": "1a4d2ba2-af05-4835-92a8-7e4d8f5b80ce",
      "metadata": {
        "id": "1a4d2ba2-af05-4835-92a8-7e4d8f5b80ce"
      },
      "source": [
        "## Clean `df3`"
      ]
    },
    {
      "cell_type": "markdown",
      "id": "3bb54547-1688-4f58-bff0-dc204bf3437f",
      "metadata": {
        "id": "3bb54547-1688-4f58-bff0-dc204bf3437f"
      },
      "source": [
        "Great work! We're now on the final DataFrame. Use the same `shape`, `info` and `head` commands to inspect the `df3`. Do you see any familiar issues?\n",
        "\n",
        "You'll notice that we still have `NaN` values, but there are two new problems:\n",
        "\n",
        "1. Instead of separate `\"lat\"` and `\"lon\"` columns, there's a single `\"lat-lon\"` column.\n",
        "2. Instead of a `\"state\"` column, there's a `\"place_with_parent_names\"` column.\n",
        "\n",
        "We need the resolve these problems so that `df3` has the same columns in the same format as `df1` and `df2`."
      ]
    },
    {
      "cell_type": "code",
      "execution_count": null,
      "id": "639a0f40-358f-41d0-b0a1-1c853d539f26",
      "metadata": {
        "id": "639a0f40-358f-41d0-b0a1-1c853d539f26"
      },
      "outputs": [],
      "source": []
    },
    {
      "cell_type": "markdown",
      "id": "a80f9cd3-24c1-403b-a911-b1a888394ecf",
      "metadata": {
        "id": "a80f9cd3-24c1-403b-a911-b1a888394ecf"
      },
      "source": [
        "**Task 1.2.5:** Drop rows with `NaN` values in `df3`. Then use the [`split`](https://pandas.pydata.org/docs/reference/api/pandas.Series.str.split.html) method to create two new columns from `\"lat-lon\"` named `\"lat\"` and `\"lon\"`, respectively.\n",
        "\n",
        "- [Drop rows with missing values from a DataFrame using pandas.](../%40textbook/03-pandas-getting-started.ipynb#Dropping-Rows)\n",
        "- [Split the strings in one column to create another using pandas.](../%40textbook/03-pandas-getting-started.ipynb#Splitting-Strings)"
      ]
    },
    {
      "cell_type": "code",
      "execution_count": null,
      "id": "946bff77-d86a-4c3d-8881-e77bb03de308",
      "metadata": {
        "id": "946bff77-d86a-4c3d-8881-e77bb03de308"
      },
      "outputs": [],
      "source": []
    },
    {
      "cell_type": "markdown",
      "id": "a65532b3-2419-42bd-9fcf-95737d2c2945",
      "metadata": {
        "id": "a65532b3-2419-42bd-9fcf-95737d2c2945"
      },
      "source": [
        "**Task 1.2.6:** Use the [`split`](https://pandas.pydata.org/docs/reference/api/pandas.Series.str.split.html) method again, this time to extract the state for every house. (Note that the state name always appears after `\"México|\"` in each string.) Use this information to create a `\"state\"` column. Finally, drop the `\"place_with_parent_names\"` and `\"lat-lon\"` columns from the DataFrame.\n",
        "\n",
        "- [Split the strings in one column to create another using pandas.](../%40textbook/03-pandas-getting-started.ipynb#Splitting-Strings)\n",
        "- [Drop a column from a DataFrame using pandas.](../%40textbook/03-pandas-getting-started.ipynb#Dropping-Columns)"
      ]
    },
    {
      "cell_type": "code",
      "execution_count": null,
      "id": "b7e1b495-9946-46ed-ab4c-49256f8572cc",
      "metadata": {
        "id": "b7e1b495-9946-46ed-ab4c-49256f8572cc"
      },
      "outputs": [],
      "source": []
    },
    {
      "cell_type": "markdown",
      "id": "5ee7ab83-a019-41d0-9fe4-ff7184ef14e1",
      "metadata": {
        "id": "5ee7ab83-a019-41d0-9fe4-ff7184ef14e1"
      },
      "source": [
        "## Concatenate DataFrames"
      ]
    },
    {
      "cell_type": "markdown",
      "id": "61c6212d-078d-4998-9ce9-44f2d5a90b43",
      "metadata": {
        "id": "61c6212d-078d-4998-9ce9-44f2d5a90b43"
      },
      "source": [
        "Great work! You have three clean DataFrames, and now it's time to combine them into a single DataFrame so that you can conduct your analysis."
      ]
    },
    {
      "cell_type": "markdown",
      "id": "c75e9e15-1f82-40d0-ab91-32348199e7c4",
      "metadata": {
        "id": "c75e9e15-1f82-40d0-ab91-32348199e7c4"
      },
      "source": [
        "**Task 1.2.7:** Use [`pd.concat`](https://pandas.pydata.org/pandas-docs/stable/reference/api/pandas.concat.html) to concatenate `df1`, `df2`, `df3` as new DataFrame named `df`. Your new DataFrame should have 1,736 rows and 6 columns:`\"property_type\"`, `\"state\"`, `\"lat\"`, `\"lon\"`, `\"area_m2\"`, and `\"price_usd\"`.\n",
        "\n",
        "- [Concatenate two or more DataFrames using pandas.](../%40textbook/03-pandas-getting-started.ipynb#Concatenating-DataFrames)"
      ]
    },
    {
      "cell_type": "code",
      "execution_count": null,
      "id": "7a380dec-8709-4d50-80e0-a76ad61e9d9e",
      "metadata": {
        "id": "7a380dec-8709-4d50-80e0-a76ad61e9d9e"
      },
      "outputs": [],
      "source": []
    },
    {
      "cell_type": "markdown",
      "id": "91a340e4-5c8e-4a50-8c4b-45ae5de0abf1",
      "metadata": {
        "id": "91a340e4-5c8e-4a50-8c4b-45ae5de0abf1"
      },
      "source": [
        "## Save `df`"
      ]
    },
    {
      "cell_type": "markdown",
      "id": "904321c1-4c02-4b47-89f0-ce5681a4368d",
      "metadata": {
        "id": "904321c1-4c02-4b47-89f0-ce5681a4368d"
      },
      "source": [
        "The data is clean and in a single DataFrame, and now you need to save it as a CSV file so that you can examine it in your exploratory data analysis."
      ]
    },
    {
      "cell_type": "code",
      "execution_count": null,
      "id": "828e7b0a-b01a-4886-94a1-39ee346bc295",
      "metadata": {
        "id": "828e7b0a-b01a-4886-94a1-39ee346bc295"
      },
      "outputs": [],
      "source": []
    },
    {
      "cell_type": "markdown",
      "id": "283d909d-cbe4-408d-a0cd-ea47eda745bc",
      "metadata": {
        "id": "283d909d-cbe4-408d-a0cd-ea47eda745bc"
      },
      "source": [
        "**Task 1.2.8:** Save `df` as a CSV file using the [`to_csv`](https://pandas.pydata.org/docs/reference/api/pandas.DataFrame.to_csv.html) method. The file path should be `\"./data/mexico-real-estate-clean.csv\"`. Be sure to set the `index` argument to `False`.\n",
        "\n",
        "- [What's a CSV file?](../%40textbook/03-pandas-getting-started.ipynb#CSV-Files)\n",
        "- [Save a DataFrame as a CSV file using pandas.](../%40textbook/03-pandas-getting-started.ipynb#Saving-a-DataFrame-as-a-CSV)"
      ]
    },
    {
      "cell_type": "code",
      "execution_count": null,
      "id": "9b7c3325-354a-4398-852e-0bcd2d0bd47f",
      "metadata": {
        "id": "9b7c3325-354a-4398-852e-0bcd2d0bd47f"
      },
      "outputs": [],
      "source": [
        "# Save df"
      ]
    },
    {
      "cell_type": "code",
      "execution_count": null,
      "id": "59096244-bf2e-4f3a-a29e-df8d98b99c28",
      "metadata": {
        "id": "59096244-bf2e-4f3a-a29e-df8d98b99c28"
      },
      "outputs": [],
      "source": []
    }
  ],
  "metadata": {
    "kernelspec": {
      "display_name": "anaconda-2024.02-py310",
      "language": "python",
      "name": "conda-env-anaconda-2024.02-py310-py"
    },
    "language_info": {
      "codemirror_mode": {
        "name": "ipython",
        "version": 3
      },
      "file_extension": ".py",
      "mimetype": "text/x-python",
      "name": "python",
      "nbconvert_exporter": "python",
      "pygments_lexer": "ipython3",
      "version": "3.10.14"
    },
    "colab": {
      "provenance": [],
      "toc_visible": true,
      "include_colab_link": true
    }
  },
  "nbformat": 4,
  "nbformat_minor": 5
}