{
  "cells": [
    {
      "cell_type": "markdown",
      "metadata": {
        "id": "view-in-github",
        "colab_type": "text"
      },
      "source": [
        "<a href=\"https://colab.research.google.com/github/ddaeducation/DataAnalyst/blob/main/Exploratory_Data_Analysis.ipynb\" target=\"_parent\"><img src=\"https://colab.research.google.com/assets/colab-badge.svg\" alt=\"Open In Colab\"/></a>"
      ]
    },
    {
      "cell_type": "markdown",
      "id": "8b7f1179-1fa7-46d7-985e-03a73e2438d2",
      "metadata": {
        "id": "8b7f1179-1fa7-46d7-985e-03a73e2438d2"
      },
      "source": [
        "<font size=\"+2\"><strong>2. Exploratory Data Analysis </strong></font>"
      ]
    },
    {
      "cell_type": "code",
      "execution_count": null,
      "id": "f98b6e7e-1949-4c5c-8d79-d43f37591ee3",
      "metadata": {
        "id": "f98b6e7e-1949-4c5c-8d79-d43f37591ee3"
      },
      "outputs": [],
      "source": [
        "import matplotlib.pyplot as plt\n",
        "import pandas as pd\n",
        "import plotly.express as px"
      ]
    },
    {
      "cell_type": "markdown",
      "id": "794139ca-ee52-4dae-a28f-166e159b5bdb",
      "metadata": {
        "id": "794139ca-ee52-4dae-a28f-166e159b5bdb"
      },
      "source": [
        "After importing, the next step in many data science projects is exploratory data analysis (EDA), where you get a feel for your data by summarizing its main characteristics using descriptive statistics and data visualization. A good way to plan your EDA is by looking each column and asking yourself questions what it says about your dataset."
      ]
    },
    {
      "cell_type": "code",
      "execution_count": null,
      "id": "e32c31f0-d084-440e-ae71-0b4e799f1646",
      "metadata": {
        "id": "e32c31f0-d084-440e-ae71-0b4e799f1646"
      },
      "outputs": [],
      "source": []
    },
    {
      "cell_type": "markdown",
      "id": "0faf439b-00b4-4417-9c27-0a5a57634f01",
      "metadata": {
        "id": "0faf439b-00b4-4417-9c27-0a5a57634f01"
      },
      "source": [
        "**Task 1.3.1:** Read the CSV file that you created in the last notebook (`\"../small-data/mexico-real-estate-clean.csv\"`) into a DataFrame named `df`. Be sure to check that all your columns are the correct data type before you go to the next task.\n",
        "\n",
        "- [What's a DataFrame?](../%40textbook/03-pandas-getting-started.ipynb#Working-with-DataFrames)\n",
        "- [What's a CSV file?](../%40textbook/03-pandas-getting-started.ipynb#CSV-Files)\n",
        "- [Read a CSV file into a DataFrame using pandas.](../%40textbook/03-pandas-getting-started.ipynb#Working-with-DataFrames)"
      ]
    },
    {
      "cell_type": "code",
      "execution_count": null,
      "id": "00fc2b96-11d4-47ad-bbed-e0e5f1aafdc3",
      "metadata": {
        "id": "00fc2b96-11d4-47ad-bbed-e0e5f1aafdc3"
      },
      "outputs": [],
      "source": []
    },
    {
      "cell_type": "markdown",
      "id": "1a0251ac-6ddc-42ef-8e70-d99340da315f",
      "metadata": {
        "id": "1a0251ac-6ddc-42ef-8e70-d99340da315f"
      },
      "source": [
        "While there are only two `dtypes` in our DataFrame (`object` and `float64`), there are three categories of  data: location, categorical, and numeric. Each of these require a different kind of exploration in our analysis.\n"
      ]
    },
    {
      "cell_type": "markdown",
      "id": "b28b8a28-4400-4272-b4cb-0a696159a6f6",
      "metadata": {
        "id": "b28b8a28-4400-4272-b4cb-0a696159a6f6"
      },
      "source": [
        "## Location Data: `\"lat\"` and `\"lon\"`"
      ]
    },
    {
      "cell_type": "markdown",
      "id": "8751a3ba-459b-4f8d-a16d-ce656010568c",
      "metadata": {
        "id": "8751a3ba-459b-4f8d-a16d-ce656010568c"
      },
      "source": [
        "They say that the most important thing in real estate is location, and we can see where where in Mexico our houses are located by using the `\"lat\"` and `\"lon\"` columns. Since latitude and longitude are based on a coordinate system, a good way to visualize them is to create a scatter plot on top of a map. A great tool for this is the [`scatter_mapbox`](https://plotly.github.io/plotly.py-docs/generated/plotly.express.scatter_mapbox.html) from the plotly library."
      ]
    },
    {
      "cell_type": "code",
      "execution_count": null,
      "id": "6c917975-90a2-4207-980f-9f5f9ae7058a",
      "metadata": {
        "id": "6c917975-90a2-4207-980f-9f5f9ae7058a"
      },
      "outputs": [],
      "source": []
    },
    {
      "cell_type": "markdown",
      "id": "c8d6bd49-345a-4d53-b381-fd36ad6ca05d",
      "metadata": {
        "id": "c8d6bd49-345a-4d53-b381-fd36ad6ca05d"
      },
      "source": [
        "**Task 1.3.2:** Add `\"lat\"` and `\"lon\"` to the code below, and run the code. You'll see a map that's centered on Mexico City, and you can use the \"Zoom Out\" button in the upper-right corner of the map so that you can see the whole country.\n",
        "\n",
        "- [What's location data?](../%40textbook/05-pandas-summary-statistics.ipynb#Location-Data)\n",
        "- [What's a scatter plot?](../%40textbook/06-visualization-matplotlib.ipynb#Scatter-Plots)"
      ]
    },
    {
      "cell_type": "code",
      "execution_count": null,
      "id": "a5bc8596-6a83-42d8-a7cf-a45a8a5d2c59",
      "metadata": {
        "id": "a5bc8596-6a83-42d8-a7cf-a45a8a5d2c59"
      },
      "outputs": [],
      "source": []
    },
    {
      "cell_type": "markdown",
      "id": "447c8772-d480-4aa3-ae53-eab7d57f51ac",
      "metadata": {
        "id": "447c8772-d480-4aa3-ae53-eab7d57f51ac"
      },
      "source": [
        "Looking at this map, are the houses in our dataset distributed evenly throughout the country, or are there states or regions that are more prevalent? Can you guess where Mexico's biggest cities are based on this distribution?"
      ]
    },
    {
      "cell_type": "code",
      "execution_count": null,
      "id": "08e05526-44cd-45b8-9029-78b0aab71873",
      "metadata": {
        "id": "08e05526-44cd-45b8-9029-78b0aab71873"
      },
      "outputs": [],
      "source": []
    },
    {
      "cell_type": "markdown",
      "id": "717c909d-f906-4a61-ace6-a5eb75220579",
      "metadata": {
        "id": "717c909d-f906-4a61-ace6-a5eb75220579"
      },
      "source": [
        "## Categorical Data: `\"state\"`"
      ]
    },
    {
      "cell_type": "markdown",
      "id": "865e0df1-0ddd-4b3f-95bc-419db133c772",
      "metadata": {
        "id": "865e0df1-0ddd-4b3f-95bc-419db133c772"
      },
      "source": [
        "Even though we can get a good idea of which states are most common in our dataset from looking at a map, we can also get the exact count by using the `\"state\"` column."
      ]
    },
    {
      "cell_type": "code",
      "execution_count": null,
      "id": "7e91e483-c41e-4c0e-a807-9e53cee2a940",
      "metadata": {
        "id": "7e91e483-c41e-4c0e-a807-9e53cee2a940"
      },
      "outputs": [],
      "source": []
    },
    {
      "cell_type": "markdown",
      "id": "3b06bf5e-1f75-41db-a305-f64bab83320f",
      "metadata": {
        "id": "3b06bf5e-1f75-41db-a305-f64bab83320f"
      },
      "source": [
        "**Task 1.3.3:** Use the [`value_counts`](https://pandas.pydata.org/docs/reference/api/pandas.Series.value_counts.html) method on the `\"state\"` column to determine the 10 most prevalent states in our dataset.\n",
        "\n",
        "- [What's categorical data?](../%40textbook/05-pandas-summary-statistics.ipynb#Categorical-Data)\n",
        "- [What's a Series?](../%40textbook/05-pandas-summary-statistics.ipynb#Series)\n",
        "- [Aggregate data in a Series using `value_counts` in pandas.](../%40textbook/04-pandas-advanced.ipynb#Combine-multiple-categories-in-a-Series)"
      ]
    },
    {
      "cell_type": "code",
      "execution_count": null,
      "id": "71366f03-7fed-401c-95df-3ede65595dc1",
      "metadata": {
        "id": "71366f03-7fed-401c-95df-3ede65595dc1"
      },
      "outputs": [],
      "source": []
    },
    {
      "cell_type": "markdown",
      "id": "5dd46cf1-e329-4341-b4dd-85e18f9ec45e",
      "metadata": {
        "id": "5dd46cf1-e329-4341-b4dd-85e18f9ec45e"
      },
      "source": [
        "## Numerical Data: `\"area_m2\"` and `\"price_usd\"`"
      ]
    },
    {
      "cell_type": "markdown",
      "id": "e699a956-eee0-4c96-856b-584aabeee7c7",
      "metadata": {
        "id": "e699a956-eee0-4c96-856b-584aabeee7c7"
      },
      "source": [
        "We have a sense for where the houses in our dataset are located, but how much do they cost? How big are they? The best way to answer those questions is looking at descriptive statistics."
      ]
    },
    {
      "cell_type": "markdown",
      "id": "4fc19143-1b61-4a00-bf58-c91177c8c031",
      "metadata": {
        "id": "4fc19143-1b61-4a00-bf58-c91177c8c031"
      },
      "source": [
        "**Task 1.3.4:** Use the [`describe`](https://pandas.pydata.org/pandas-docs/stable/reference/api/pandas.DataFrame.describe.html) method to print the mean, standard deviation, and quartiles for the `\"area_m2\"` and `\"price_usd\"` columns.\n",
        "\n",
        "- [What's numerical data?](../%40textbook/05-pandas-summary-statistics.ipynb#Numerical-Data)\n",
        "- [What's a mean?](../%40textbook/05-pandas-summary-statistics.ipynb#The-Mean)\n",
        "- [What's a standard deviation?](../%40textbook/05-pandas-summary-statistics.ipynb#Standard-Deviation)\n",
        "- [What are quartiles?](../%40textbook/05-pandas-summary-statistics.ipynb#Quartiles)\n",
        "- [Print the summary statistics for a DataFrame using pandas.](../%40textbook/05-pandas-summary-statistics.ipynb#Working-with-Summary-Statistics)"
      ]
    },
    {
      "cell_type": "code",
      "execution_count": null,
      "id": "a2f24fb6-83eb-457d-94aa-87b2ba93d943",
      "metadata": {
        "id": "a2f24fb6-83eb-457d-94aa-87b2ba93d943"
      },
      "outputs": [],
      "source": [
        "# Describe \"area_m2\", \"price_usd\" columns"
      ]
    },
    {
      "cell_type": "markdown",
      "id": "19e77dee-7c2e-4b7f-a43e-311dac9bb80a",
      "metadata": {
        "id": "19e77dee-7c2e-4b7f-a43e-311dac9bb80a"
      },
      "source": [
        "Let's start by looking at `\"area_m2\"`. It's interesting that the mean is larger than the median (another name for the 50% quartile). Both of these statistics are supposed to give an idea of the \"typical\" value for the column, so why is there a difference of almost 15 m<sup>2</sup> between them? To answer this question, we need to see how house sizes are distributed in our dataset. Let's look at two ways to visualize the distribution: a histogram and a boxplot."
      ]
    },
    {
      "cell_type": "markdown",
      "id": "f0c02d6c-0708-4add-96d6-70ec58beab4e",
      "metadata": {
        "id": "f0c02d6c-0708-4add-96d6-70ec58beab4e"
      },
      "source": [
        "**Task 1.3.5:** Create a histogram of `\"area_m2\"`. Make sure that the x-axis has the label `\"Area [sq meters]\"`, the y-axis has the label `\"Frequency\"`, and the plot has the title `\"Distribution of Home Sizes\"`.\n",
        "\n",
        "- [What's a histogram?](../%40textbook/06-visualization-matplotlib.ipynb#Histograms)\n",
        "- [Create a histogram using Matplotlib.](../%40textbook/06-visualization-matplotlib.ipynb#Histograms)"
      ]
    },
    {
      "cell_type": "code",
      "execution_count": null,
      "id": "dee69eff-73ec-48b1-8ef0-ed22766479bf",
      "metadata": {
        "id": "dee69eff-73ec-48b1-8ef0-ed22766479bf"
      },
      "outputs": [],
      "source": [
        "# Use Matplotlib to create histogram of \"area_m2\"\n",
        "\n",
        "\n",
        "# Add x-axis label\n",
        "\n",
        "\n",
        "# Add y-axis label\n",
        "\n",
        "\n",
        "# Add title"
      ]
    },
    {
      "cell_type": "markdown",
      "id": "55b15d83-5d8f-40c8-ba08-bfa2d9c82631",
      "metadata": {
        "id": "55b15d83-5d8f-40c8-ba08-bfa2d9c82631"
      },
      "source": [
        "Looking at our histogram, we can see that `\"area_m2\"` skews right. In other words, there are more houses at the lower end of the distribution (50–200m<sup>2</sup>) than at the higher end (250–400m<sup>2</sup>). That explains the difference between the mean and the median."
      ]
    },
    {
      "cell_type": "markdown",
      "id": "330e84ff-5186-4792-ba65-869944ed368e",
      "metadata": {
        "id": "330e84ff-5186-4792-ba65-869944ed368e"
      },
      "source": [
        "**Task 1.3.6:** Create a horizontal boxplot of `\"area_m2\"`. Make sure that the x-axis has the label `\"Area [sq meters]\"` and the plot has the title `\"Distribution of Home Sizes\"`. How is the distribution and its left skew represented differently here than in your histogram?\n",
        "\n",
        "- [What's a boxplot?](../%40textbook/06-visualization-matplotlib.ipynb#Boxplots)\n",
        "- [What's a skewed distribution?](../%40textbook/05-pandas-summary-statistics.ipynb#Skewed-Distributions)\n",
        "- [Create a boxplot using Matplotlib.](../%40textbook/06-visualization-matplotlib.ipynb#Boxplots)"
      ]
    },
    {
      "cell_type": "code",
      "execution_count": null,
      "id": "d39c08b5-a659-45cc-b350-a4bc5872ca98",
      "metadata": {
        "id": "d39c08b5-a659-45cc-b350-a4bc5872ca98"
      },
      "outputs": [],
      "source": [
        "# Use Matplotlib to create boxplot of \"area_m2\"\n",
        "\n",
        "\n",
        "# Add x-axis label\n",
        "\n",
        "\n",
        "# Add title\n"
      ]
    },
    {
      "cell_type": "markdown",
      "id": "1902d282-1dc4-407b-bb88-525b5cd3e8e3",
      "metadata": {
        "id": "1902d282-1dc4-407b-bb88-525b5cd3e8e3"
      },
      "source": [
        "Does `\"price_usd\"` have the same distribution as `\"price_per_m2\"`? Let's use the same two visualization tools to find out."
      ]
    },
    {
      "cell_type": "markdown",
      "id": "43c773db-4f05-4d85-853c-eaa713c2eae3",
      "metadata": {
        "id": "43c773db-4f05-4d85-853c-eaa713c2eae3"
      },
      "source": [
        "**Task 1.3.7:** Create a histogram of `\"price_usd\"`. Make sure that the x-axis has the label `\"Price [USD]\"`, the y-axis has the label `\"Frequency\"`, and the plot has the title `\"Distribution of Home Prices\"`.\n",
        "\n",
        "- [What's a histogram?](../%40textbook/06-visualization-matplotlib.ipynb#Histograms)\n",
        "- [Create a histogram using Matplotlib.](../%40textbook/06-visualization-matplotlib.ipynb#Histograms)"
      ]
    },
    {
      "cell_type": "code",
      "execution_count": null,
      "id": "931a0eb8-9046-4962-821a-096a734268a1",
      "metadata": {
        "id": "931a0eb8-9046-4962-821a-096a734268a1"
      },
      "outputs": [],
      "source": [
        "# Use Matplotlib to create histogram of \"price_usd\"\n",
        "\n",
        "\n",
        "# Add x-axis label\n",
        "\n",
        "\n",
        "# Add y-axis label\n",
        "\n",
        "\n",
        "# Add title\n"
      ]
    },
    {
      "cell_type": "markdown",
      "id": "214bc616-676d-4d51-8fee-0fa301825577",
      "metadata": {
        "id": "214bc616-676d-4d51-8fee-0fa301825577"
      },
      "source": [
        "Looks like `\"price_usd\"` is even more skewed than `\"area_m2\"`. What does this bigger skew look like in a boxplot?"
      ]
    },
    {
      "cell_type": "markdown",
      "id": "6617bd9a-05c9-4e08-b062-8b3a8cdfd8fc",
      "metadata": {
        "id": "6617bd9a-05c9-4e08-b062-8b3a8cdfd8fc"
      },
      "source": [
        "**Task 1.3.8:** Create a horizontal boxplot of `\"price_usd\"`. Make sure that the x-axis has the label `\"Price [USD]\"` and the plot has the title `\"Distribution of Home Prices\"`.\n",
        "\n",
        "- [What's a boxplot?](../%40textbook/06-visualization-matplotlib.ipynb#Boxplots)\n",
        "- [What's an outlier?](../%40textbook/05-pandas-summary-statistics.ipynb#Outliers)\n",
        "- [Create a boxplot using Matplotlib.](../%40textbook/06-visualization-matplotlib.ipynb#Boxplots)"
      ]
    },
    {
      "cell_type": "code",
      "execution_count": null,
      "id": "7a47b5f2-ca72-4cfe-8efa-d77c861f2951",
      "metadata": {
        "id": "7a47b5f2-ca72-4cfe-8efa-d77c861f2951"
      },
      "outputs": [],
      "source": [
        "# Use Matplotlib to create boxplot of \"price_usd\"\n",
        "\n",
        "\n",
        "# Add x-label axis\n",
        "\n",
        "\n",
        "# Add y-label axis"
      ]
    },
    {
      "cell_type": "markdown",
      "id": "3402a2cd-e853-409e-9988-325031aa1763",
      "metadata": {
        "id": "3402a2cd-e853-409e-9988-325031aa1763"
      },
      "source": [
        "Excellent job! Now that you have a sense of for the dataset, let's move to the next notebook and start answering some research questions about the relationship between house size, price, and location."
      ]
    },
    {
      "cell_type": "code",
      "execution_count": null,
      "id": "3861cd24-30ee-41c1-a32a-100cb036068b",
      "metadata": {
        "id": "3861cd24-30ee-41c1-a32a-100cb036068b"
      },
      "outputs": [],
      "source": []
    }
  ],
  "metadata": {
    "kernelspec": {
      "display_name": "anaconda-2024.02-py310",
      "language": "python",
      "name": "conda-env-anaconda-2024.02-py310-py"
    },
    "language_info": {
      "codemirror_mode": {
        "name": "ipython",
        "version": 3
      },
      "file_extension": ".py",
      "mimetype": "text/x-python",
      "name": "python",
      "nbconvert_exporter": "python",
      "pygments_lexer": "ipython3",
      "version": "3.10.14"
    },
    "colab": {
      "provenance": [],
      "include_colab_link": true
    }
  },
  "nbformat": 4,
  "nbformat_minor": 5
}