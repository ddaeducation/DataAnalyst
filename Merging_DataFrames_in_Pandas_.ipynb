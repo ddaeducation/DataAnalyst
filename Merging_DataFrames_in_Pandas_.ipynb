{
  "cells": [
    {
      "cell_type": "markdown",
      "metadata": {
        "id": "view-in-github",
        "colab_type": "text"
      },
      "source": [
        "<a href=\"https://colab.research.google.com/github/ddaeducation/DataAnalyst/blob/main/Merging_DataFrames_in_Pandas_.ipynb\" target=\"_parent\"><img src=\"https://colab.research.google.com/assets/colab-badge.svg\" alt=\"Open In Colab\"/></a>"
      ]
    },
    {
      "cell_type": "markdown",
      "id": "0fdb23b2-ec08-48e8-b0f6-890ff2448190",
      "metadata": {
        "id": "0fdb23b2-ec08-48e8-b0f6-890ff2448190"
      },
      "source": [
        "## Merging DataFrames in Pandas"
      ]
    },
    {
      "cell_type": "markdown",
      "id": "f14f8452-7a2a-450b-9310-8ce4fcd012b5",
      "metadata": {
        "id": "f14f8452-7a2a-450b-9310-8ce4fcd012b5"
      },
      "source": [
        "### Objectives:\n",
        "- To demonstrate how to merge two dataframes in pandas.\n",
        "- To understand the different types of joins available during the merge process.\n",
        "\n",
        "### Introduction:\n",
        "\n",
        "Merging is a fundamental operation in data manipulation that allows us to combine\n",
        "two or more datasets based on a common key or index. In pandas, the `merge` function\n",
        "provides a flexible way to perform this operation, supporting various types of joins\n",
        "such as inner, outer, left, and right joins."
      ]
    },
    {
      "cell_type": "markdown",
      "id": "699e9a6d-9222-4b70-b404-ac33a662899b",
      "metadata": {
        "id": "699e9a6d-9222-4b70-b404-ac33a662899b"
      },
      "source": [
        "### Step 1: Create Sample DataFrames\n",
        "\n",
        "We'll create two dataframes: `df1` and `df2`.\n",
        "\n",
        "- `df1` will contain employee information.\n",
        "- `df2` will contain department information.\n",
        "\n",
        "### Step 2: Write Code for Creating DataFrames and Merging\n",
        "\n",
        "Here’s the code that creates the dataframes and demonstrates merging:\n"
      ]
    },
    {
      "cell_type": "code",
      "execution_count": null,
      "id": "f5448519-a07b-4d1e-911d-3ab60c38564b",
      "metadata": {
        "id": "f5448519-a07b-4d1e-911d-3ab60c38564b"
      },
      "outputs": [],
      "source": [
        "import pandas as pd\n",
        "# Create the first DataFrame\n",
        "data1 = {\n",
        "    'EmployeeID': [1, 2, 3, 4],\n",
        "    'Name': ['Alice', 'Bob', 'Charlie', 'David'],\n",
        "    'DepartmentID': [101, 102, 101, 103]}\n",
        "df1 = pd.DataFrame(data1)"
      ]
    },
    {
      "cell_type": "code",
      "execution_count": null,
      "id": "3b282d42-ad45-4042-9c26-2c60cb6007ef",
      "metadata": {
        "id": "3b282d42-ad45-4042-9c26-2c60cb6007ef"
      },
      "outputs": [],
      "source": [
        "# Create the second DataFrame\n",
        "data2 = {\n",
        "    'DepartmentID': [101, 102, 103, 104],\n",
        "    'DepartmentName': ['HR', 'Finance', 'IT', 'Marketing']}\n",
        "df2 = pd.DataFrame(data2)"
      ]
    },
    {
      "cell_type": "code",
      "execution_count": null,
      "id": "316a9a37-025f-416b-84f4-4b1bdf1e8c32",
      "metadata": {
        "id": "316a9a37-025f-416b-84f4-4b1bdf1e8c32"
      },
      "outputs": [],
      "source": [
        "# Merge examples\n",
        "# 1. Inner Join\n",
        "inner_merge = pd.merge(df1, df2, on='DepartmentID', how='inner')"
      ]
    },
    {
      "cell_type": "code",
      "execution_count": null,
      "id": "4901dd01-0f14-4fdf-ad60-d2b208d29203",
      "metadata": {
        "id": "4901dd01-0f14-4fdf-ad60-d2b208d29203"
      },
      "outputs": [],
      "source": [
        "# 2. Left Join\n",
        "left_merge = pd.merge(df1, df2, on='DepartmentID', how='left')"
      ]
    },
    {
      "cell_type": "code",
      "execution_count": null,
      "id": "8e47e25b-ac46-47d3-9696-de4d88debe6e",
      "metadata": {
        "id": "8e47e25b-ac46-47d3-9696-de4d88debe6e"
      },
      "outputs": [],
      "source": [
        "# 3. Right Join\n",
        "right_merge = pd.merge(df1, df2, on='DepartmentID', how='right'"
      ]
    },
    {
      "cell_type": "code",
      "execution_count": null,
      "id": "9d0ab4dd-baf9-4700-a39f-06d3fca19593",
      "metadata": {
        "id": "9d0ab4dd-baf9-4700-a39f-06d3fca19593"
      },
      "outputs": [],
      "source": [
        "# 4. Outer Join\n",
        "outer_merge = pd.merge(df1, df2, on='DepartmentID', how='outer')"
      ]
    },
    {
      "cell_type": "markdown",
      "id": "afd9846e-7aa5-4a53-bd02-f964c40a47f1",
      "metadata": {
        "id": "afd9846e-7aa5-4a53-bd02-f964c40a47f1"
      },
      "source": [
        "\n",
        "### Explanation of the Merges\n",
        "\n",
        "1. **Inner Join**: This will return only the rows where there is a match in both dataframes.\n",
        "2. **Left Join**: This will return all rows from `df1` and the matched rows from `df2`. If there is no match, NaN will be returned for `df2` columns.\n",
        "3. **Right Join**: This will return all rows from `df2` and the matched rows from `df1`. If there is no match, NaN will be returned for `df1` columns.\n",
        "4. **Outer Join**: This will return all rows from both dataframes, with NaN in places where there is no match.\n",
        "\n",
        "You can run this code in a Jupyter Notebook to see the results of the merges. Make sure to have the pandas library installed in your environment."
      ]
    },
    {
      "cell_type": "code",
      "execution_count": null,
      "id": "289a3677-f669-4ef0-a7fe-a33c136cd43b",
      "metadata": {
        "id": "289a3677-f669-4ef0-a7fe-a33c136cd43b"
      },
      "outputs": [],
      "source": [
        "import pandas as pd\n",
        "\n",
        "# Create the first DataFrame: Employee Data\n",
        "data1 = {\n",
        "    'EmployeeID': [1, 2, 3, 4, 5],\n",
        "    'Name': ['Alice', 'Bob', 'Charlie', 'David', 'Eva'],\n",
        "    'DepartmentID': [101, 102, 101, 103, 102]\n",
        "}\n",
        "df1 = pd.DataFrame(data1)"
      ]
    },
    {
      "cell_type": "code",
      "execution_count": null,
      "id": "a88a2780-abef-4b17-87b8-bb07f0424473",
      "metadata": {
        "id": "a88a2780-abef-4b17-87b8-bb07f0424473"
      },
      "outputs": [],
      "source": [
        "# Create the second DataFrame: Department Data\n",
        "data2 = {\n",
        "    'DepartmentID': [101, 102, 103],\n",
        "    'DepartmentName': ['HR', 'Finance', 'IT']\n",
        "}\n",
        "df2 = pd.DataFrame(data2)"
      ]
    },
    {
      "cell_type": "markdown",
      "id": "a29ee596-5a9d-484c-a5b9-4555ddc2a2e9",
      "metadata": {
        "id": "a29ee596-5a9d-484c-a5b9-4555ddc2a2e9"
      },
      "source": [
        "\n",
        "### Step 2: Questions to Answer Using Merge\n",
        "\n",
        "1. **What are the names of employees along with their department names?**\n",
        "   - This can be answered by merging `df1` and `df2` on `DepartmentID`.\n",
        "\n",
        "2. **Which employees belong to the Finance department?**\n",
        "   - This can be determined by merging and filtering the results for the Finance department.\n",
        "\n",
        "3. **How many employees are there in each department?**\n",
        "   - After merging, you can group by `DepartmentName` and count the number of employees.\n",
        "\n",
        "4. **What is the DepartmentID for each employee?**\n",
        "   - This can be directly obtained from `df1` or through a merge.\n",
        "\n",
        "5. **List all departments and the employees in each department.**\n",
        "   - This requires a merge and then grouping the results.\n",
        "\n",
        "6. **Are there any employees without a department?**\n",
        "   - This can be checked by performing a left merge and looking for NaN values in `DepartmentName`.\n",
        "\n",
        "7. **What is the total number of employees in the dataset?**\n",
        "   - This can be obtained from `df1` directly or by counting the merged results.\n",
        "\n",
        "8. **Which departments have no employees?**\n",
        "   - This can be found by merging and checking for departments that do not appear in the employee list.\n",
        "\n",
        "9. **What are the unique department names in the dataset?**\n",
        "   - This can be obtained from `df2` directly or from the merged results.\n",
        "\n",
        "10. **How can we identify employees who work in multiple departments?**\n",
        "    - This would require a different dataset structure, but you can check for duplicates in the merged results if applicable.\n",
        "\n",
        "### Conclusion\n",
        "\n",
        "You can use the above data frames and questions to practice merging in pandas. Each question can be answered by applying the `pd.merge()` function appropriately based on the requirements of the question."
      ]
    },
    {
      "cell_type": "code",
      "execution_count": null,
      "id": "fcdde0bf-ef9b-4476-8d9e-4e4a6e4c7f91",
      "metadata": {
        "id": "fcdde0bf-ef9b-4476-8d9e-4e4a6e4c7f91"
      },
      "outputs": [],
      "source": []
    }
  ],
  "metadata": {
    "kernelspec": {
      "display_name": "anaconda-2024.02-py310",
      "language": "python",
      "name": "conda-env-anaconda-2024.02-py310-py"
    },
    "language_info": {
      "codemirror_mode": {
        "name": "ipython",
        "version": 3
      },
      "file_extension": ".py",
      "mimetype": "text/x-python",
      "name": "python",
      "nbconvert_exporter": "python",
      "pygments_lexer": "ipython3",
      "version": "3.10.14"
    },
    "colab": {
      "provenance": [],
      "include_colab_link": true
    }
  },
  "nbformat": 4,
  "nbformat_minor": 5
}