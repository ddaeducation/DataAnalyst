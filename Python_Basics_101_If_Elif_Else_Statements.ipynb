{
  "cells": [
    {
      "cell_type": "markdown",
      "metadata": {
        "id": "view-in-github",
        "colab_type": "text"
      },
      "source": [
        "<a href=\"https://colab.research.google.com/github/ddaeducation/DataAnalyst/blob/main/Python_Basics_101_If_Elif_Else_Statements.ipynb\" target=\"_parent\"><img src=\"https://colab.research.google.com/assets/colab-badge.svg\" alt=\"Open In Colab\"/></a>"
      ]
    },
    {
      "cell_type": "markdown",
      "id": "770bcc6d",
      "metadata": {
        "id": "770bcc6d"
      },
      "source": [
        "# If - Elif - Else Statements"
      ]
    },
    {
      "cell_type": "code",
      "execution_count": null,
      "id": "78e96668",
      "metadata": {
        "id": "78e96668",
        "outputId": "8561297e-073f-4bed-d14a-e7663eb1972d"
      },
      "outputs": [
        {
          "name": "stdout",
          "output_type": "stream",
          "text": [
            "It worked!\n"
          ]
        }
      ],
      "source": [
        "if 25 > 10:\n",
        "    print('It worked!')"
      ]
    },
    {
      "cell_type": "code",
      "execution_count": null,
      "id": "9bb90f9b",
      "metadata": {
        "id": "9bb90f9b",
        "outputId": "ae0e0b39-d670-4b75-88b8-31d26ca3b9c8"
      },
      "outputs": [
        {
          "name": "stdout",
          "output_type": "stream",
          "text": [
            "It worked!\n"
          ]
        }
      ],
      "source": [
        "if 25 > 10:\n",
        "    print('It worked!')\n",
        "else:\n",
        "    print('It did not work...')"
      ]
    },
    {
      "cell_type": "code",
      "execution_count": null,
      "id": "064e4770",
      "metadata": {
        "id": "064e4770",
        "outputId": "3c2774bd-777c-4d95-f588-7e18126987cc"
      },
      "outputs": [
        {
          "name": "stdout",
          "output_type": "stream",
          "text": [
            "It worked!\n"
          ]
        }
      ],
      "source": [
        "if (25 < 10) or (1 < 3):\n",
        "    print('It worked!')\n",
        "elif 25 < 20:\n",
        "    print('elif worked!')\n",
        "elif 25 < 21:\n",
        "    print('elif 2 worked!')\n",
        "elif 25 < 40:\n",
        "    print('elif 3 worked!')\n",
        "elif 25 < 50:\n",
        "    print('elif 4 worked!')\n",
        "else:\n",
        "    print('It did not work...')"
      ]
    },
    {
      "cell_type": "code",
      "execution_count": null,
      "id": "421a4e09",
      "metadata": {
        "id": "421a4e09",
        "outputId": "58e7c41d-cf14-476d-b61c-a7b28cc10cb3"
      },
      "outputs": [
        {
          "name": "stdout",
          "output_type": "stream",
          "text": [
            "It did not work...\n"
          ]
        }
      ],
      "source": [
        "print('It worked!') if 10>30 else print('It did not work...')"
      ]
    },
    {
      "cell_type": "code",
      "execution_count": null,
      "id": "5a7ba25e",
      "metadata": {
        "id": "5a7ba25e",
        "outputId": "b0235ee8-3391-4884-e74a-7e3c0b6452dc"
      },
      "outputs": [
        {
          "name": "stdout",
          "output_type": "stream",
          "text": [
            "It worked!\n",
            "This nested if statement worked!\n"
          ]
        }
      ],
      "source": [
        "if (25 < 10) or (1 < 3):\n",
        "    print('It worked!')\n",
        "    if 10 > 5:\n",
        "        print('This nested if statement worked!')\n",
        "elif 25 < 20:\n",
        "    print('elif worked!')\n",
        "elif 25 < 21:\n",
        "    print('elif 2 worked!')\n",
        "elif 25 < 40:\n",
        "    print('elif 3 worked!')\n",
        "elif 25 < 50:\n",
        "    print('elif 4 worked!')\n",
        "else:\n",
        "    print('It did not work...')"
      ]
    }
  ],
  "metadata": {
    "kernelspec": {
      "display_name": "Python 3 (ipykernel)",
      "language": "python",
      "name": "python3"
    },
    "language_info": {
      "codemirror_mode": {
        "name": "ipython",
        "version": 3
      },
      "file_extension": ".py",
      "mimetype": "text/x-python",
      "name": "python",
      "nbconvert_exporter": "python",
      "pygments_lexer": "ipython3",
      "version": "3.9.12"
    },
    "colab": {
      "provenance": [],
      "include_colab_link": true
    }
  },
  "nbformat": 4,
  "nbformat_minor": 5
}