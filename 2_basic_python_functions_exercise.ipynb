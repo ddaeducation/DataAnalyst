{
  "cells": [
    {
      "cell_type": "markdown",
      "metadata": {
        "id": "view-in-github",
        "colab_type": "text"
      },
      "source": [
        "<a href=\"https://colab.research.google.com/github/ddaeducation/DataAnalyst/blob/main/2_basic_python_functions_exercise.ipynb\" target=\"_parent\"><img src=\"https://colab.research.google.com/assets/colab-badge.svg\" alt=\"Open In Colab\"/></a>"
      ]
    },
    {
      "cell_type": "markdown",
      "id": "f662d169",
      "metadata": {
        "id": "f662d169"
      },
      "source": [
        "# Exercise: Basic Python functions"
      ]
    },
    {
      "cell_type": "markdown",
      "id": "26af890c",
      "metadata": {
        "id": "26af890c"
      },
      "source": [
        "In this exercise, we will explore the fundamental concepts of Python functions and how they can be used in practice. We will be led through hands-on coding exercises that will emphasise basic concepts related to building simple functions and utilising built-in functions."
      ]
    },
    {
      "cell_type": "markdown",
      "id": "2d230d14",
      "metadata": {
        "tags": [],
        "id": "2d230d14"
      },
      "source": [
        "## Learning objectives\n",
        "\n",
        "By the end of this exercise, you should be able to:\n",
        "- Understand how to use basic built-in functions.\n",
        "- Create user-defined functions based on specific needs."
      ]
    },
    {
      "cell_type": "markdown",
      "metadata": {
        "id": "_b9bru1svP5X"
      },
      "source": [
        "## Exercises"
      ],
      "id": "_b9bru1svP5X"
    },
    {
      "cell_type": "markdown",
      "id": "5a0b7683",
      "metadata": {
        "tags": [],
        "id": "5a0b7683"
      },
      "source": [
        "### Exercise 1\n",
        "\n",
        "Given a list of deforested land in hectares over five years, calculate the total carbon emission over the years using built-in functions.\n",
        "\n",
        " Total carbon emissions are calculated by adding the hectares of deforested land and multiplying the total by a given carbon emissions factor of 40.\n",
        "\n",
        " Hint:\n",
        " * Create a variable called `total_deforested_land`, the result of adding the hectares of the deforested land using the `sum` function.\n",
        " * Create a variable called `total_carbon_emission`, the result of multiplying the `total_deforested_land` variable with the carbon emissions factor."
      ]
    },
    {
      "cell_type": "code",
      "execution_count": null,
      "id": "788218d7",
      "metadata": {
        "id": "788218d7"
      },
      "outputs": [],
      "source": [
        "# Deforested land for each year\n",
        "deforested_land = [10, 15, 8, 12, 20]\n",
        "\n",
        "# Carbon emission factor (tons of CO2 per hectare)\n",
        "carbon_emission_factor = 40\n",
        "\n",
        "# Your code here..."
      ]
    },
    {
      "cell_type": "markdown",
      "id": "fd52109b",
      "metadata": {
        "id": "fd52109b"
      },
      "source": [
        "Print the `total_deforested_land` and `total_carbon_emission` variables."
      ]
    },
    {
      "cell_type": "code",
      "execution_count": null,
      "metadata": {
        "id": "4P_G1KTavP5Z"
      },
      "outputs": [],
      "source": [
        "# Your code here..."
      ],
      "id": "4P_G1KTavP5Z"
    },
    {
      "cell_type": "markdown",
      "metadata": {
        "id": "_oS8LtUsvP5Z"
      },
      "source": [
        "### Exercise 2\n",
        "\n",
        "Create a function named `acres_to_hectares` that accepts a parameter of the area of a forest in acres and returns the corresponding area in hectares by multiplying the acres by a conversion rate of 0.404686.\n",
        "\n",
        "Remember to include the doc strings of the function."
      ],
      "id": "_oS8LtUsvP5Z"
    },
    {
      "cell_type": "code",
      "execution_count": null,
      "metadata": {
        "id": "-HqgkAR8vP5Z"
      },
      "outputs": [],
      "source": [
        "# Your code here..."
      ],
      "id": "-HqgkAR8vP5Z"
    },
    {
      "cell_type": "markdown",
      "id": "8bcc8c85",
      "metadata": {
        "id": "8bcc8c85"
      },
      "source": [
        "Use the function above to convert a forest area of 50 acres to hectares."
      ]
    },
    {
      "cell_type": "code",
      "execution_count": null,
      "id": "4d81db66",
      "metadata": {
        "id": "4d81db66"
      },
      "outputs": [],
      "source": [
        "# Your code here..."
      ]
    },
    {
      "cell_type": "markdown",
      "id": "808a6af5",
      "metadata": {
        "id": "808a6af5"
      },
      "source": [
        "### Exercise 3\n",
        "\n",
        "Using the data representing the deforested land in hectares over the years, calculate and print the average deforested land using the `sum` and `len` built-in functions.\n",
        "\n",
        "Hint:\n",
        "* Create a variable called `average_deforested_land` by adding the hectares of the deforested land together using the `sum` function and then dividing it by the number of values in the list, which can be derived using the `len` function."
      ]
    },
    {
      "cell_type": "code",
      "execution_count": null,
      "id": "65e9830a",
      "metadata": {
        "id": "65e9830a"
      },
      "outputs": [],
      "source": [
        "# Deforested land for each year\n",
        "deforested_land = [10, 15, 8, 12, 20]\n",
        "\n",
        "# Your code here\n"
      ]
    },
    {
      "cell_type": "markdown",
      "id": "5b3591ba",
      "metadata": {
        "id": "5b3591ba"
      },
      "source": [
        "Print the `average_deforested_land` variable."
      ]
    },
    {
      "cell_type": "code",
      "execution_count": null,
      "id": "7fccb10e",
      "metadata": {
        "id": "7fccb10e"
      },
      "outputs": [],
      "source": [
        "# Your code here..."
      ]
    },
    {
      "cell_type": "markdown",
      "metadata": {
        "id": "8sALywFpvP5a"
      },
      "source": [
        "## Solutions"
      ],
      "id": "8sALywFpvP5a"
    },
    {
      "cell_type": "markdown",
      "metadata": {
        "id": "nUIu_BafvP5b"
      },
      "source": [
        "### Exercise 1"
      ],
      "id": "nUIu_BafvP5b"
    },
    {
      "cell_type": "code",
      "execution_count": null,
      "metadata": {
        "id": "nbvQfXS4vP5b"
      },
      "outputs": [],
      "source": [
        "# Deforested land for each year\n",
        "deforested_land = [10, 15, 8, 12, 20]\n",
        "\n",
        "# Carbon emission factor (tons of CO2 per hectare)\n",
        "carbon_emission_factor = 40\n",
        "\n",
        "# Calculate the total carbon emission using built-in functions\n",
        "total_deforested_land = sum(deforested_land)\n",
        "total_carbon_emission = total_deforested_land * carbon_emission_factor"
      ],
      "id": "nbvQfXS4vP5b"
    },
    {
      "cell_type": "code",
      "execution_count": null,
      "id": "c2c26fbb",
      "metadata": {
        "id": "c2c26fbb"
      },
      "outputs": [],
      "source": [
        "print(total_deforested_land)\n",
        "print(total_carbon_emission)"
      ]
    },
    {
      "cell_type": "markdown",
      "metadata": {
        "id": "He6IRYjHvP5b"
      },
      "source": [
        "The `sum()` function is used to calculate the total deforested land, which is then multiplied by the carbon emission factor to obtain the total carbon emission. Each of these calculations is placed in a variable, which we can print to view its value."
      ],
      "id": "He6IRYjHvP5b"
    },
    {
      "cell_type": "markdown",
      "metadata": {
        "id": "M7r7L2FpvP5b"
      },
      "source": [
        "### Exercise 2\n"
      ],
      "id": "M7r7L2FpvP5b"
    },
    {
      "cell_type": "code",
      "execution_count": null,
      "metadata": {
        "id": "9qoAIfXyvP5b"
      },
      "outputs": [],
      "source": [
        "def acres_to_hectares(acres):\n",
        "    \"\"\"\n",
        "    Convert acres to hectares.\n",
        "\n",
        "    Parameters:\n",
        "    - acres (float): The area in acres.\n",
        "\n",
        "    Returns:\n",
        "    - float: The equivalent area in hectares.\n",
        "    \"\"\"\n",
        "    hectares = acres * 0.404686\n",
        "    return hectares"
      ],
      "id": "9qoAIfXyvP5b"
    },
    {
      "cell_type": "code",
      "execution_count": null,
      "id": "cf109f4c",
      "metadata": {
        "id": "cf109f4c"
      },
      "outputs": [],
      "source": [
        "print(acres_to_hectares(50))"
      ]
    },
    {
      "cell_type": "markdown",
      "metadata": {
        "id": "OPm_JMdyvP5c"
      },
      "source": [
        "A function named `acres_to_hectares` is defined to convert an area from acres to hectares. The function takes the number of acres as a parameter, multiplies it by the conversion factor (1 acre = 0.404686 hectares), and returns the equivalent area in hectares. The conversion function is then used to convert an area of 50 acres to hectares, and the result is printed."
      ],
      "id": "OPm_JMdyvP5c"
    },
    {
      "cell_type": "markdown",
      "id": "2349af35",
      "metadata": {
        "id": "2349af35"
      },
      "source": [
        "### Exercise 3"
      ]
    },
    {
      "cell_type": "code",
      "execution_count": null,
      "id": "2336b058",
      "metadata": {
        "id": "2336b058"
      },
      "outputs": [],
      "source": [
        "# Deforested land for different regions\n",
        "deforested_land = [25, 30, 20, 15, 18]\n",
        "\n",
        "# Calculate the average deforested area using built-in functions\n",
        "average_deforested_land = sum(deforested_land) / len(deforested_land)"
      ]
    },
    {
      "cell_type": "code",
      "execution_count": null,
      "id": "7c8d54ab",
      "metadata": {
        "id": "7c8d54ab"
      },
      "outputs": [],
      "source": [
        "print(average_deforested_land)"
      ]
    }
  ],
  "metadata": {
    "kernelspec": {
      "display_name": "Python 3 (ipykernel)",
      "language": "python",
      "name": "python3"
    },
    "language_info": {
      "codemirror_mode": {
        "name": "ipython",
        "version": 3
      },
      "file_extension": ".py",
      "mimetype": "text/x-python",
      "name": "python",
      "nbconvert_exporter": "python",
      "pygments_lexer": "ipython3",
      "version": "3.11.4"
    },
    "colab": {
      "provenance": [],
      "toc_visible": true,
      "include_colab_link": true
    }
  },
  "nbformat": 4,
  "nbformat_minor": 5
}