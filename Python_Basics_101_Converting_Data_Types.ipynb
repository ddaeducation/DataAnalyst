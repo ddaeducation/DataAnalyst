{
  "cells": [
    {
      "cell_type": "markdown",
      "metadata": {
        "id": "view-in-github",
        "colab_type": "text"
      },
      "source": [
        "<a href=\"https://colab.research.google.com/github/ddaeducation/DataAnalyst/blob/main/Python_Basics_101_Converting_Data_Types.ipynb\" target=\"_parent\"><img src=\"https://colab.research.google.com/assets/colab-badge.svg\" alt=\"Open In Colab\"/></a>"
      ]
    },
    {
      "cell_type": "markdown",
      "id": "9d8fd8b3",
      "metadata": {
        "id": "9d8fd8b3"
      },
      "source": [
        "# Converting Data Types"
      ]
    },
    {
      "cell_type": "code",
      "execution_count": null,
      "id": "5647de8d",
      "metadata": {
        "id": "5647de8d",
        "outputId": "2ae6e0ac-39dc-413e-fd4f-187bc9b7bf2d"
      },
      "outputs": [
        {
          "data": {
            "text/plain": [
              "int"
            ]
          },
          "execution_count": 8,
          "metadata": {},
          "output_type": "execute_result"
        }
      ],
      "source": [
        "num_int = 7\n",
        "\n",
        "type(num_int)"
      ]
    },
    {
      "cell_type": "code",
      "execution_count": null,
      "id": "c5aa9dcc",
      "metadata": {
        "id": "c5aa9dcc",
        "outputId": "cc477aef-1a38-44c1-b333-0aebed3b5b8d"
      },
      "outputs": [
        {
          "data": {
            "text/plain": [
              "str"
            ]
          },
          "execution_count": 9,
          "metadata": {},
          "output_type": "execute_result"
        }
      ],
      "source": [
        "num_str = '7'\n",
        "\n",
        "type(num_str)"
      ]
    },
    {
      "cell_type": "code",
      "execution_count": null,
      "id": "079fc569",
      "metadata": {
        "id": "079fc569",
        "outputId": "cf49de50-7edd-4630-eeaf-b0102df723a9"
      },
      "outputs": [
        {
          "data": {
            "text/plain": [
              "int"
            ]
          },
          "execution_count": 11,
          "metadata": {},
          "output_type": "execute_result"
        }
      ],
      "source": [
        "nun_str_conv = int(num_str)\n",
        "\n",
        "type(nun_str_conv)"
      ]
    },
    {
      "cell_type": "code",
      "execution_count": null,
      "id": "3d4d00cb",
      "metadata": {
        "id": "3d4d00cb",
        "outputId": "1784c216-fafe-4892-f79f-e0a3798b31b4"
      },
      "outputs": [
        {
          "name": "stdout",
          "output_type": "stream",
          "text": [
            "14\n"
          ]
        }
      ],
      "source": [
        "num_sum = num_int + nun_str_conv\n",
        "\n",
        "print(num_sum)"
      ]
    },
    {
      "cell_type": "code",
      "execution_count": null,
      "id": "e54eac45",
      "metadata": {
        "id": "e54eac45",
        "outputId": "6aad9380-9837-4738-e455-600ffce342ff"
      },
      "outputs": [
        {
          "data": {
            "text/plain": [
              "int"
            ]
          },
          "execution_count": 14,
          "metadata": {},
          "output_type": "execute_result"
        }
      ],
      "source": [
        "type(num_sum)"
      ]
    },
    {
      "cell_type": "code",
      "execution_count": null,
      "id": "bc419b2a",
      "metadata": {
        "id": "bc419b2a",
        "outputId": "dc089399-887d-4fc0-f920-389b342cd26c"
      },
      "outputs": [
        {
          "data": {
            "text/plain": [
              "list"
            ]
          },
          "execution_count": 15,
          "metadata": {},
          "output_type": "execute_result"
        }
      ],
      "source": [
        "list_type = [1,2,3]\n",
        "\n",
        "type(list_type)"
      ]
    },
    {
      "cell_type": "code",
      "execution_count": null,
      "id": "ee48356d",
      "metadata": {
        "id": "ee48356d",
        "outputId": "2c3fa42d-cb8b-4940-d853-bf1991b50050"
      },
      "outputs": [
        {
          "data": {
            "text/plain": [
              "tuple"
            ]
          },
          "execution_count": 17,
          "metadata": {},
          "output_type": "execute_result"
        }
      ],
      "source": [
        "type(tuple(list_type))"
      ]
    },
    {
      "cell_type": "code",
      "execution_count": null,
      "id": "08e59291",
      "metadata": {
        "id": "08e59291"
      },
      "outputs": [],
      "source": [
        "list_type = [1,2,3,3,2,1,2,3,2,1]"
      ]
    },
    {
      "cell_type": "code",
      "execution_count": null,
      "id": "0273ed56",
      "metadata": {
        "id": "0273ed56",
        "outputId": "25de95b5-962f-4d63-bfa4-24a398f9499a"
      },
      "outputs": [
        {
          "data": {
            "text/plain": [
              "set"
            ]
          },
          "execution_count": 20,
          "metadata": {},
          "output_type": "execute_result"
        }
      ],
      "source": [
        "type(set(list_type))"
      ]
    },
    {
      "cell_type": "code",
      "execution_count": null,
      "id": "565aaa3e",
      "metadata": {
        "id": "565aaa3e",
        "outputId": "e399b11a-8c60-4b36-9fa9-f3816f9b46c4"
      },
      "outputs": [
        {
          "data": {
            "text/plain": [
              "dict"
            ]
          },
          "execution_count": 21,
          "metadata": {},
          "output_type": "execute_result"
        }
      ],
      "source": [
        "dict_type = {'name': 'Alex','age': 28, 'hair': 'N/A'}\n",
        "\n",
        "type(dict_type)"
      ]
    },
    {
      "cell_type": "code",
      "execution_count": null,
      "id": "f1d5d6eb",
      "metadata": {
        "id": "f1d5d6eb",
        "outputId": "7bb72572-8efa-48cb-e513-233fb0e78633"
      },
      "outputs": [
        {
          "data": {
            "text/plain": [
              "dict_items([('name', 'Alex'), ('age', 28), ('hair', 'N/A')])"
            ]
          },
          "execution_count": 22,
          "metadata": {},
          "output_type": "execute_result"
        }
      ],
      "source": [
        "dict_type.items()"
      ]
    },
    {
      "cell_type": "code",
      "execution_count": null,
      "id": "519de227",
      "metadata": {
        "id": "519de227",
        "outputId": "49bd1741-ac3a-452b-fc61-695ba413930e"
      },
      "outputs": [
        {
          "data": {
            "text/plain": [
              "dict_values(['Alex', 28, 'N/A'])"
            ]
          },
          "execution_count": 23,
          "metadata": {},
          "output_type": "execute_result"
        }
      ],
      "source": [
        "dict_type.values()"
      ]
    },
    {
      "cell_type": "code",
      "execution_count": null,
      "id": "30d1e55f",
      "metadata": {
        "id": "30d1e55f",
        "outputId": "d48803d8-952f-44cf-a34f-6d339fe9cdc4"
      },
      "outputs": [
        {
          "data": {
            "text/plain": [
              "dict_keys(['name', 'age', 'hair'])"
            ]
          },
          "execution_count": 24,
          "metadata": {},
          "output_type": "execute_result"
        }
      ],
      "source": [
        "dict_type.keys()"
      ]
    },
    {
      "cell_type": "code",
      "execution_count": null,
      "id": "9f147d5f",
      "metadata": {
        "id": "9f147d5f",
        "outputId": "1fb157bb-ac34-4d50-a19b-0a98d382a8f4"
      },
      "outputs": [
        {
          "data": {
            "text/plain": [
              "list"
            ]
          },
          "execution_count": 26,
          "metadata": {},
          "output_type": "execute_result"
        }
      ],
      "source": [
        "type(list(dict_type.keys()))"
      ]
    },
    {
      "cell_type": "code",
      "execution_count": null,
      "id": "727f66de",
      "metadata": {
        "id": "727f66de",
        "outputId": "557e1b27-19ce-480f-a42e-14acfa36efe4"
      },
      "outputs": [
        {
          "data": {
            "text/plain": [
              "list"
            ]
          },
          "execution_count": 27,
          "metadata": {},
          "output_type": "execute_result"
        }
      ],
      "source": [
        "type(list(dict_type.values()))"
      ]
    },
    {
      "cell_type": "code",
      "execution_count": null,
      "id": "f360e2b4",
      "metadata": {
        "id": "f360e2b4",
        "outputId": "376d9d57-7da1-4a65-c352-e22cf48b56f4"
      },
      "outputs": [
        {
          "data": {
            "text/plain": [
              "{' ', 'I', 'a', 'e', 'i', 'k', 'l', 'o', 'p', 'r', 't', 'y'}"
            ]
          },
          "execution_count": 29,
          "metadata": {},
          "output_type": "execute_result"
        }
      ],
      "source": [
        "long_str = \"I like to party\"\n",
        "\n",
        "set(long_str)"
      ]
    }
  ],
  "metadata": {
    "kernelspec": {
      "display_name": "Python 3 (ipykernel)",
      "language": "python",
      "name": "python3"
    },
    "language_info": {
      "codemirror_mode": {
        "name": "ipython",
        "version": 3
      },
      "file_extension": ".py",
      "mimetype": "text/x-python",
      "name": "python",
      "nbconvert_exporter": "python",
      "pygments_lexer": "ipython3",
      "version": "3.9.12"
    },
    "colab": {
      "provenance": [],
      "include_colab_link": true
    }
  },
  "nbformat": 4,
  "nbformat_minor": 5
}